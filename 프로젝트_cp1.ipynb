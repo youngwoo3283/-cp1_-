{
  "nbformat": 4,
  "nbformat_minor": 0,
  "metadata": {
    "colab": {
      "provenance": []
    },
    "kernelspec": {
      "name": "python3",
      "display_name": "Python 3"
    },
    "language_info": {
      "name": "python"
    }
  },
  "cells": [
    {
      "cell_type": "markdown",
      "source": [
        "# 먼저 라이브러리들을 사용해서 이진 분류 해보자"
      ],
      "metadata": {
        "id": "VqJeHjpWjh8y"
      }
    },
    {
      "cell_type": "code",
      "execution_count": null,
      "metadata": {
        "id": "qnlUsO9cjduf"
      },
      "outputs": [],
      "source": [
        "import pandas as pd\n",
        "import tensorflow as tf"
      ]
    },
    {
      "cell_type": "code",
      "source": [
        "#데이터 불러오기\n",
        "df = pd.read_csv('binary_dataset.csv')\n",
        "#df"
      ],
      "metadata": {
        "id": "XIVmimhRjqMc"
      },
      "execution_count": null,
      "outputs": []
    },
    {
      "cell_type": "code",
      "source": [
        "df.head()"
      ],
      "metadata": {
        "colab": {
          "base_uri": "https://localhost:8080/",
          "height": 206
        },
        "id": "7mKxYlwXk9h-",
        "outputId": "49d0145c-21f0-4e1f-e5bc-667f826cff8e"
      },
      "execution_count": null,
      "outputs": [
        {
          "output_type": "execute_result",
          "data": {
            "text/plain": [
              "           x1         x2        x3        x4         x5         x6         x7  \\\n",
              "0  136.093750  51.691005 -0.045909 -0.271816   9.342809  38.096400   4.345438   \n",
              "1   99.367188  41.572202  1.547197  4.154106  27.555184  61.719016   2.208808   \n",
              "2  100.890625  51.890394  0.627487 -0.026498   3.883779  23.045267   6.953168   \n",
              "3  120.554688  45.549905  0.282924  0.419909   1.358696  13.079034  13.312141   \n",
              "4  121.882812  53.042675  0.200521 -0.282219   2.116221  16.580876   8.947603   \n",
              "\n",
              "           x8  y  \n",
              "0   18.673649  0  \n",
              "1    3.662680  1  \n",
              "2   52.279440  0  \n",
              "3  212.597029  1  \n",
              "4   91.011762  0  "
            ],
            "text/html": [
              "\n",
              "  <div id=\"df-2143ad9e-66df-4997-bb0b-d4bd4560c72c\">\n",
              "    <div class=\"colab-df-container\">\n",
              "      <div>\n",
              "<style scoped>\n",
              "    .dataframe tbody tr th:only-of-type {\n",
              "        vertical-align: middle;\n",
              "    }\n",
              "\n",
              "    .dataframe tbody tr th {\n",
              "        vertical-align: top;\n",
              "    }\n",
              "\n",
              "    .dataframe thead th {\n",
              "        text-align: right;\n",
              "    }\n",
              "</style>\n",
              "<table border=\"1\" class=\"dataframe\">\n",
              "  <thead>\n",
              "    <tr style=\"text-align: right;\">\n",
              "      <th></th>\n",
              "      <th>x1</th>\n",
              "      <th>x2</th>\n",
              "      <th>x3</th>\n",
              "      <th>x4</th>\n",
              "      <th>x5</th>\n",
              "      <th>x6</th>\n",
              "      <th>x7</th>\n",
              "      <th>x8</th>\n",
              "      <th>y</th>\n",
              "    </tr>\n",
              "  </thead>\n",
              "  <tbody>\n",
              "    <tr>\n",
              "      <th>0</th>\n",
              "      <td>136.093750</td>\n",
              "      <td>51.691005</td>\n",
              "      <td>-0.045909</td>\n",
              "      <td>-0.271816</td>\n",
              "      <td>9.342809</td>\n",
              "      <td>38.096400</td>\n",
              "      <td>4.345438</td>\n",
              "      <td>18.673649</td>\n",
              "      <td>0</td>\n",
              "    </tr>\n",
              "    <tr>\n",
              "      <th>1</th>\n",
              "      <td>99.367188</td>\n",
              "      <td>41.572202</td>\n",
              "      <td>1.547197</td>\n",
              "      <td>4.154106</td>\n",
              "      <td>27.555184</td>\n",
              "      <td>61.719016</td>\n",
              "      <td>2.208808</td>\n",
              "      <td>3.662680</td>\n",
              "      <td>1</td>\n",
              "    </tr>\n",
              "    <tr>\n",
              "      <th>2</th>\n",
              "      <td>100.890625</td>\n",
              "      <td>51.890394</td>\n",
              "      <td>0.627487</td>\n",
              "      <td>-0.026498</td>\n",
              "      <td>3.883779</td>\n",
              "      <td>23.045267</td>\n",
              "      <td>6.953168</td>\n",
              "      <td>52.279440</td>\n",
              "      <td>0</td>\n",
              "    </tr>\n",
              "    <tr>\n",
              "      <th>3</th>\n",
              "      <td>120.554688</td>\n",
              "      <td>45.549905</td>\n",
              "      <td>0.282924</td>\n",
              "      <td>0.419909</td>\n",
              "      <td>1.358696</td>\n",
              "      <td>13.079034</td>\n",
              "      <td>13.312141</td>\n",
              "      <td>212.597029</td>\n",
              "      <td>1</td>\n",
              "    </tr>\n",
              "    <tr>\n",
              "      <th>4</th>\n",
              "      <td>121.882812</td>\n",
              "      <td>53.042675</td>\n",
              "      <td>0.200521</td>\n",
              "      <td>-0.282219</td>\n",
              "      <td>2.116221</td>\n",
              "      <td>16.580876</td>\n",
              "      <td>8.947603</td>\n",
              "      <td>91.011762</td>\n",
              "      <td>0</td>\n",
              "    </tr>\n",
              "  </tbody>\n",
              "</table>\n",
              "</div>\n",
              "      <button class=\"colab-df-convert\" onclick=\"convertToInteractive('df-2143ad9e-66df-4997-bb0b-d4bd4560c72c')\"\n",
              "              title=\"Convert this dataframe to an interactive table.\"\n",
              "              style=\"display:none;\">\n",
              "        \n",
              "  <svg xmlns=\"http://www.w3.org/2000/svg\" height=\"24px\"viewBox=\"0 0 24 24\"\n",
              "       width=\"24px\">\n",
              "    <path d=\"M0 0h24v24H0V0z\" fill=\"none\"/>\n",
              "    <path d=\"M18.56 5.44l.94 2.06.94-2.06 2.06-.94-2.06-.94-.94-2.06-.94 2.06-2.06.94zm-11 1L8.5 8.5l.94-2.06 2.06-.94-2.06-.94L8.5 2.5l-.94 2.06-2.06.94zm10 10l.94 2.06.94-2.06 2.06-.94-2.06-.94-.94-2.06-.94 2.06-2.06.94z\"/><path d=\"M17.41 7.96l-1.37-1.37c-.4-.4-.92-.59-1.43-.59-.52 0-1.04.2-1.43.59L10.3 9.45l-7.72 7.72c-.78.78-.78 2.05 0 2.83L4 21.41c.39.39.9.59 1.41.59.51 0 1.02-.2 1.41-.59l7.78-7.78 2.81-2.81c.8-.78.8-2.07 0-2.86zM5.41 20L4 18.59l7.72-7.72 1.47 1.35L5.41 20z\"/>\n",
              "  </svg>\n",
              "      </button>\n",
              "      \n",
              "  <style>\n",
              "    .colab-df-container {\n",
              "      display:flex;\n",
              "      flex-wrap:wrap;\n",
              "      gap: 12px;\n",
              "    }\n",
              "\n",
              "    .colab-df-convert {\n",
              "      background-color: #E8F0FE;\n",
              "      border: none;\n",
              "      border-radius: 50%;\n",
              "      cursor: pointer;\n",
              "      display: none;\n",
              "      fill: #1967D2;\n",
              "      height: 32px;\n",
              "      padding: 0 0 0 0;\n",
              "      width: 32px;\n",
              "    }\n",
              "\n",
              "    .colab-df-convert:hover {\n",
              "      background-color: #E2EBFA;\n",
              "      box-shadow: 0px 1px 2px rgba(60, 64, 67, 0.3), 0px 1px 3px 1px rgba(60, 64, 67, 0.15);\n",
              "      fill: #174EA6;\n",
              "    }\n",
              "\n",
              "    [theme=dark] .colab-df-convert {\n",
              "      background-color: #3B4455;\n",
              "      fill: #D2E3FC;\n",
              "    }\n",
              "\n",
              "    [theme=dark] .colab-df-convert:hover {\n",
              "      background-color: #434B5C;\n",
              "      box-shadow: 0px 1px 3px 1px rgba(0, 0, 0, 0.15);\n",
              "      filter: drop-shadow(0px 1px 2px rgba(0, 0, 0, 0.3));\n",
              "      fill: #FFFFFF;\n",
              "    }\n",
              "  </style>\n",
              "\n",
              "      <script>\n",
              "        const buttonEl =\n",
              "          document.querySelector('#df-2143ad9e-66df-4997-bb0b-d4bd4560c72c button.colab-df-convert');\n",
              "        buttonEl.style.display =\n",
              "          google.colab.kernel.accessAllowed ? 'block' : 'none';\n",
              "\n",
              "        async function convertToInteractive(key) {\n",
              "          const element = document.querySelector('#df-2143ad9e-66df-4997-bb0b-d4bd4560c72c');\n",
              "          const dataTable =\n",
              "            await google.colab.kernel.invokeFunction('convertToInteractive',\n",
              "                                                     [key], {});\n",
              "          if (!dataTable) return;\n",
              "\n",
              "          const docLinkHtml = 'Like what you see? Visit the ' +\n",
              "            '<a target=\"_blank\" href=https://colab.research.google.com/notebooks/data_table.ipynb>data table notebook</a>'\n",
              "            + ' to learn more about interactive tables.';\n",
              "          element.innerHTML = '';\n",
              "          dataTable['output_type'] = 'display_data';\n",
              "          await google.colab.output.renderOutput(dataTable, element);\n",
              "          const docLink = document.createElement('div');\n",
              "          docLink.innerHTML = docLinkHtml;\n",
              "          element.appendChild(docLink);\n",
              "        }\n",
              "      </script>\n",
              "    </div>\n",
              "  </div>\n",
              "  "
            ]
          },
          "metadata": {},
          "execution_count": 8
        }
      ]
    },
    {
      "cell_type": "code",
      "source": [
        "df.shape"
      ],
      "metadata": {
        "colab": {
          "base_uri": "https://localhost:8080/"
        },
        "id": "74ZI0aSMk2Z7",
        "outputId": "19eab86a-f101-4731-b20b-10a2da5865f7"
      },
      "execution_count": null,
      "outputs": [
        {
          "output_type": "execute_result",
          "data": {
            "text/plain": [
              "(20, 9)"
            ]
          },
          "metadata": {},
          "execution_count": 5
        }
      ]
    },
    {
      "cell_type": "code",
      "source": [
        "features = df.drop(columns = 'y')\n",
        "label = df.iloc[:,8]"
      ],
      "metadata": {
        "id": "Ujyx7E4fkwPe"
      },
      "execution_count": null,
      "outputs": []
    },
    {
      "cell_type": "code",
      "source": [
        "# 학습데이터는 0.8 테스트 데이터는 0.2\n",
        "from sklearn.model_selection import train_test_split\n",
        "\n",
        "X_train, X_test, y_train, y_test = train_test_split(features, label, test_size=0.2, random_state=42)"
      ],
      "metadata": {
        "id": "BC-GjjqekX1h"
      },
      "execution_count": null,
      "outputs": []
    },
    {
      "cell_type": "code",
      "source": [
        "print(X_train.shape)\n",
        "print(X_test.shape)"
      ],
      "metadata": {
        "colab": {
          "base_uri": "https://localhost:8080/"
        },
        "id": "nsgG-LW2l8Bi",
        "outputId": "9ea915b7-9a63-48d9-d790-b71c063bf97a"
      },
      "execution_count": null,
      "outputs": [
        {
          "output_type": "stream",
          "name": "stdout",
          "text": [
            "(16, 8)\n",
            "(4, 8)\n"
          ]
        }
      ]
    },
    {
      "cell_type": "code",
      "source": [
        "model = tf.keras.models.Sequential()\n",
        "model.add(tf.keras.layers.Flatten(input_shape=(8,)))\n",
        "model.add(tf.keras.layers.Dense(1, activation='sigmoid'))"
      ],
      "metadata": {
        "id": "Crm0tkZ0mFlD"
      },
      "execution_count": null,
      "outputs": []
    },
    {
      "cell_type": "code",
      "source": [
        "model.compile(optimizer='adam',\n",
        "              loss='binary_crossentropy',\n",
        "              metrics=['accuracy'])"
      ],
      "metadata": {
        "id": "Bndda7OM2zwR"
      },
      "execution_count": null,
      "outputs": []
    },
    {
      "cell_type": "code",
      "source": [
        "model.fit(X_train, y_train, epochs=1)"
      ],
      "metadata": {
        "colab": {
          "base_uri": "https://localhost:8080/"
        },
        "id": "iaz99Mc723X9",
        "outputId": "a6d138b2-58dc-4a5f-91d3-179f98cba2b1"
      },
      "execution_count": null,
      "outputs": [
        {
          "output_type": "stream",
          "name": "stdout",
          "text": [
            "1/1 [==============================] - 2s 2s/step - loss: 21.2685 - accuracy: 0.6250\n"
          ]
        },
        {
          "output_type": "execute_result",
          "data": {
            "text/plain": [
              "<keras.callbacks.History at 0x7f191384c1f0>"
            ]
          },
          "metadata": {},
          "execution_count": 23
        }
      ]
    },
    {
      "cell_type": "code",
      "source": [
        "model.evaluate(X_test,  y_test, verbose=2)"
      ],
      "metadata": {
        "colab": {
          "base_uri": "https://localhost:8080/"
        },
        "id": "84hggtyk29LD",
        "outputId": "bf85738b-3401-49fa-85dc-e24ace63c52c"
      },
      "execution_count": null,
      "outputs": [
        {
          "output_type": "stream",
          "name": "stdout",
          "text": [
            "1/1 - 0s - loss: 39.4972 - accuracy: 0.5000 - 142ms/epoch - 142ms/step\n"
          ]
        },
        {
          "output_type": "execute_result",
          "data": {
            "text/plain": [
              "[39.497222900390625, 0.5]"
            ]
          },
          "metadata": {},
          "execution_count": 24
        }
      ]
    },
    {
      "cell_type": "markdown",
      "source": [
        "# 라이브러리를 안쓰는 프로젝트"
      ],
      "metadata": {
        "id": "fazj6lqq6dWB"
      }
    },
    {
      "cell_type": "code",
      "source": [
        "#얘네만 사용하기\n",
        "\n",
        "import numpy as np\n",
        "import pandas as pd\n",
        "import csv\n",
        "import matplotlib.pyplot as plt"
      ],
      "metadata": {
        "id": "C6G5qoGY6gsy"
      },
      "execution_count": 1,
      "outputs": []
    },
    {
      "cell_type": "code",
      "source": [
        "#데이터 불러오기\n",
        "def load_data():\n",
        "  global df\n",
        "  urls = 'binary_dataset.csv'\n",
        "  df = pd.read_csv(urls)"
      ],
      "metadata": {
        "id": "lAhrQcMO6ogv"
      },
      "execution_count": 2,
      "outputs": []
    },
    {
      "cell_type": "code",
      "source": [
        "load_data()\n"
      ],
      "metadata": {
        "id": "aGJp2DKu6o9G"
      },
      "execution_count": 3,
      "outputs": []
    },
    {
      "cell_type": "code",
      "source": [
        "#파라미터와 편향 생성하기\n",
        "#가중치 초기화는 표준정규분포에서 뽑기\n",
        "#원래 기울기 초기화의 경우 역전파에서 가중치 소실이나 폭발이 일어나서 xavier나 he를 쓰지만 여기서는 역전파가 없으니 그냥 초기화\n",
        "#편향의 경우 0으로 초기화하거나 0.01로 초기화하는 경우가 많아서 0.01로 \n",
        "\n",
        "def para():\n",
        "  global weight\n",
        "  global bias\n",
        "  weight = np.random.randn(8)\n",
        "  bias     = 0.01\n"
      ],
      "metadata": {
        "id": "yw5k0uaiJ8jo"
      },
      "execution_count": 4,
      "outputs": []
    },
    {
      "cell_type": "code",
      "source": [
        "para()\n",
        "weight,bias"
      ],
      "metadata": {
        "id": "D6jrMEC2PiH2",
        "outputId": "7f745b80-8c20-4dc7-b51c-a522d67dfca4",
        "colab": {
          "base_uri": "https://localhost:8080/"
        }
      },
      "execution_count": 5,
      "outputs": [
        {
          "output_type": "execute_result",
          "data": {
            "text/plain": [
              "(array([ 1.31447862,  0.71202227, -0.82563055,  1.38455224, -1.51596663,\n",
              "        -1.50360796, -0.18263247, -0.74372485]), 0.01)"
            ]
          },
          "metadata": {},
          "execution_count": 5
        }
      ]
    },
    {
      "cell_type": "code",
      "source": [
        "df.head()"
      ],
      "metadata": {
        "id": "NL4oznmLQp4V",
        "outputId": "a64d57b7-344d-42a0-c559-1d2f439bf3c5",
        "colab": {
          "base_uri": "https://localhost:8080/",
          "height": 206
        }
      },
      "execution_count": 6,
      "outputs": [
        {
          "output_type": "execute_result",
          "data": {
            "text/plain": [
              "           x1         x2        x3        x4         x5         x6         x7  \\\n",
              "0  136.093750  51.691005 -0.045909 -0.271816   9.342809  38.096400   4.345438   \n",
              "1   99.367188  41.572202  1.547197  4.154106  27.555184  61.719016   2.208808   \n",
              "2  100.890625  51.890394  0.627487 -0.026498   3.883779  23.045267   6.953168   \n",
              "3  120.554688  45.549905  0.282924  0.419909   1.358696  13.079034  13.312141   \n",
              "4  121.882812  53.042675  0.200521 -0.282219   2.116221  16.580876   8.947603   \n",
              "\n",
              "           x8  y  \n",
              "0   18.673649  0  \n",
              "1    3.662680  1  \n",
              "2   52.279440  0  \n",
              "3  212.597029  1  \n",
              "4   91.011762  0  "
            ],
            "text/html": [
              "\n",
              "  <div id=\"df-55cb97ab-9d79-4a59-bd2c-7fcee18b9da9\">\n",
              "    <div class=\"colab-df-container\">\n",
              "      <div>\n",
              "<style scoped>\n",
              "    .dataframe tbody tr th:only-of-type {\n",
              "        vertical-align: middle;\n",
              "    }\n",
              "\n",
              "    .dataframe tbody tr th {\n",
              "        vertical-align: top;\n",
              "    }\n",
              "\n",
              "    .dataframe thead th {\n",
              "        text-align: right;\n",
              "    }\n",
              "</style>\n",
              "<table border=\"1\" class=\"dataframe\">\n",
              "  <thead>\n",
              "    <tr style=\"text-align: right;\">\n",
              "      <th></th>\n",
              "      <th>x1</th>\n",
              "      <th>x2</th>\n",
              "      <th>x3</th>\n",
              "      <th>x4</th>\n",
              "      <th>x5</th>\n",
              "      <th>x6</th>\n",
              "      <th>x7</th>\n",
              "      <th>x8</th>\n",
              "      <th>y</th>\n",
              "    </tr>\n",
              "  </thead>\n",
              "  <tbody>\n",
              "    <tr>\n",
              "      <th>0</th>\n",
              "      <td>136.093750</td>\n",
              "      <td>51.691005</td>\n",
              "      <td>-0.045909</td>\n",
              "      <td>-0.271816</td>\n",
              "      <td>9.342809</td>\n",
              "      <td>38.096400</td>\n",
              "      <td>4.345438</td>\n",
              "      <td>18.673649</td>\n",
              "      <td>0</td>\n",
              "    </tr>\n",
              "    <tr>\n",
              "      <th>1</th>\n",
              "      <td>99.367188</td>\n",
              "      <td>41.572202</td>\n",
              "      <td>1.547197</td>\n",
              "      <td>4.154106</td>\n",
              "      <td>27.555184</td>\n",
              "      <td>61.719016</td>\n",
              "      <td>2.208808</td>\n",
              "      <td>3.662680</td>\n",
              "      <td>1</td>\n",
              "    </tr>\n",
              "    <tr>\n",
              "      <th>2</th>\n",
              "      <td>100.890625</td>\n",
              "      <td>51.890394</td>\n",
              "      <td>0.627487</td>\n",
              "      <td>-0.026498</td>\n",
              "      <td>3.883779</td>\n",
              "      <td>23.045267</td>\n",
              "      <td>6.953168</td>\n",
              "      <td>52.279440</td>\n",
              "      <td>0</td>\n",
              "    </tr>\n",
              "    <tr>\n",
              "      <th>3</th>\n",
              "      <td>120.554688</td>\n",
              "      <td>45.549905</td>\n",
              "      <td>0.282924</td>\n",
              "      <td>0.419909</td>\n",
              "      <td>1.358696</td>\n",
              "      <td>13.079034</td>\n",
              "      <td>13.312141</td>\n",
              "      <td>212.597029</td>\n",
              "      <td>1</td>\n",
              "    </tr>\n",
              "    <tr>\n",
              "      <th>4</th>\n",
              "      <td>121.882812</td>\n",
              "      <td>53.042675</td>\n",
              "      <td>0.200521</td>\n",
              "      <td>-0.282219</td>\n",
              "      <td>2.116221</td>\n",
              "      <td>16.580876</td>\n",
              "      <td>8.947603</td>\n",
              "      <td>91.011762</td>\n",
              "      <td>0</td>\n",
              "    </tr>\n",
              "  </tbody>\n",
              "</table>\n",
              "</div>\n",
              "      <button class=\"colab-df-convert\" onclick=\"convertToInteractive('df-55cb97ab-9d79-4a59-bd2c-7fcee18b9da9')\"\n",
              "              title=\"Convert this dataframe to an interactive table.\"\n",
              "              style=\"display:none;\">\n",
              "        \n",
              "  <svg xmlns=\"http://www.w3.org/2000/svg\" height=\"24px\"viewBox=\"0 0 24 24\"\n",
              "       width=\"24px\">\n",
              "    <path d=\"M0 0h24v24H0V0z\" fill=\"none\"/>\n",
              "    <path d=\"M18.56 5.44l.94 2.06.94-2.06 2.06-.94-2.06-.94-.94-2.06-.94 2.06-2.06.94zm-11 1L8.5 8.5l.94-2.06 2.06-.94-2.06-.94L8.5 2.5l-.94 2.06-2.06.94zm10 10l.94 2.06.94-2.06 2.06-.94-2.06-.94-.94-2.06-.94 2.06-2.06.94z\"/><path d=\"M17.41 7.96l-1.37-1.37c-.4-.4-.92-.59-1.43-.59-.52 0-1.04.2-1.43.59L10.3 9.45l-7.72 7.72c-.78.78-.78 2.05 0 2.83L4 21.41c.39.39.9.59 1.41.59.51 0 1.02-.2 1.41-.59l7.78-7.78 2.81-2.81c.8-.78.8-2.07 0-2.86zM5.41 20L4 18.59l7.72-7.72 1.47 1.35L5.41 20z\"/>\n",
              "  </svg>\n",
              "      </button>\n",
              "      \n",
              "  <style>\n",
              "    .colab-df-container {\n",
              "      display:flex;\n",
              "      flex-wrap:wrap;\n",
              "      gap: 12px;\n",
              "    }\n",
              "\n",
              "    .colab-df-convert {\n",
              "      background-color: #E8F0FE;\n",
              "      border: none;\n",
              "      border-radius: 50%;\n",
              "      cursor: pointer;\n",
              "      display: none;\n",
              "      fill: #1967D2;\n",
              "      height: 32px;\n",
              "      padding: 0 0 0 0;\n",
              "      width: 32px;\n",
              "    }\n",
              "\n",
              "    .colab-df-convert:hover {\n",
              "      background-color: #E2EBFA;\n",
              "      box-shadow: 0px 1px 2px rgba(60, 64, 67, 0.3), 0px 1px 3px 1px rgba(60, 64, 67, 0.15);\n",
              "      fill: #174EA6;\n",
              "    }\n",
              "\n",
              "    [theme=dark] .colab-df-convert {\n",
              "      background-color: #3B4455;\n",
              "      fill: #D2E3FC;\n",
              "    }\n",
              "\n",
              "    [theme=dark] .colab-df-convert:hover {\n",
              "      background-color: #434B5C;\n",
              "      box-shadow: 0px 1px 3px 1px rgba(0, 0, 0, 0.15);\n",
              "      filter: drop-shadow(0px 1px 2px rgba(0, 0, 0, 0.3));\n",
              "      fill: #FFFFFF;\n",
              "    }\n",
              "  </style>\n",
              "\n",
              "      <script>\n",
              "        const buttonEl =\n",
              "          document.querySelector('#df-55cb97ab-9d79-4a59-bd2c-7fcee18b9da9 button.colab-df-convert');\n",
              "        buttonEl.style.display =\n",
              "          google.colab.kernel.accessAllowed ? 'block' : 'none';\n",
              "\n",
              "        async function convertToInteractive(key) {\n",
              "          const element = document.querySelector('#df-55cb97ab-9d79-4a59-bd2c-7fcee18b9da9');\n",
              "          const dataTable =\n",
              "            await google.colab.kernel.invokeFunction('convertToInteractive',\n",
              "                                                     [key], {});\n",
              "          if (!dataTable) return;\n",
              "\n",
              "          const docLinkHtml = 'Like what you see? Visit the ' +\n",
              "            '<a target=\"_blank\" href=https://colab.research.google.com/notebooks/data_table.ipynb>data table notebook</a>'\n",
              "            + ' to learn more about interactive tables.';\n",
              "          element.innerHTML = '';\n",
              "          dataTable['output_type'] = 'display_data';\n",
              "          await google.colab.output.renderOutput(dataTable, element);\n",
              "          const docLink = document.createElement('div');\n",
              "          docLink.innerHTML = docLinkHtml;\n",
              "          element.appendChild(docLink);\n",
              "        }\n",
              "      </script>\n",
              "    </div>\n",
              "  </div>\n",
              "  "
            ]
          },
          "metadata": {},
          "execution_count": 6
        }
      ]
    },
    {
      "cell_type": "code",
      "source": [
        "#데이터 셔플해서 인덱스만 다시 설정하는 메서드\n",
        "\n",
        "\n",
        "def data_shu():\n",
        "  global df_shu\n",
        "  df_shu = df.sample(frac=1).reset_index(drop = True)\n",
        "  \n"
      ],
      "metadata": {
        "id": "jF21VvjXPo21"
      },
      "execution_count": 7,
      "outputs": []
    },
    {
      "cell_type": "code",
      "source": [
        "#df_shu = data_shu(df) #기존의 df랑 다른 것을 확인\n",
        "data_shu()"
      ],
      "metadata": {
        "id": "6PmHsystdYHQ"
      },
      "execution_count": 8,
      "outputs": []
    },
    {
      "cell_type": "code",
      "source": [
        "#학습데이터와 테스트 데이터를 0.8 0.2 로 나누기\n",
        "#20개중에서 무작위로 4개를 뽑고 얘는 테스트 데이터로 삼자\n",
        "#매개변수를 test_size = 0.2로 했을때 그것만 뽑으려면 (전체 데이터 개수 * test_size매개변수로 해서 그것만 뽑자)\n",
        "\n",
        "\n",
        "def data_split():\n",
        "  li = []\n",
        "  test_size = 0.2\n",
        "  start = 0\n",
        "  end   = df_shu.shape[0] \n",
        "  test_ = df_shu.shape[0]*test_size\n",
        "\n",
        "  for _ in range(int(test_)):\n",
        "    a = np.random.randint(start,end, size=1)[0]\n",
        "    while a in li:\n",
        "      a = np.random.randint(start,end, size=1)[0]\n",
        "    li.append(a)\n",
        "  global X_train\n",
        "  global X_test\n",
        "  global y_train\n",
        "  global y_test\n",
        "\n",
        "  X_test,y_test   = df_shu.iloc[li,:8],df_shu.iloc[li,8]\n",
        "  X_train,y_train = df_shu.drop(index = li).iloc[:,:8],df_shu.drop(index = li).iloc[:,8]\n",
        "\n",
        "\n",
        "\n",
        "\n"
      ],
      "metadata": {
        "id": "Kyc_-zWQ6xWi"
      },
      "execution_count": 9,
      "outputs": []
    },
    {
      "cell_type": "code",
      "source": [
        "data_split()\n"
      ],
      "metadata": {
        "id": "FBZnFeXeHwX_"
      },
      "execution_count": 10,
      "outputs": []
    },
    {
      "cell_type": "code",
      "source": [
        "X_train"
      ],
      "metadata": {
        "id": "6honsKgAGCBp",
        "outputId": "1dcdd059-f66d-4f03-e8e2-38d92dcb30c9",
        "colab": {
          "base_uri": "https://localhost:8080/",
          "height": 551
        }
      },
      "execution_count": 11,
      "outputs": [
        {
          "output_type": "execute_result",
          "data": {
            "text/plain": [
              "            x1         x2        x3         x4          x5         x6  \\\n",
              "0   103.523438  45.725739  0.336533   0.520558   11.289298  39.116453   \n",
              "1    83.679688  36.379281  0.572532   2.664611    4.040970  23.169129   \n",
              "2   107.929688  50.581954  0.320399   0.277613    2.022575  19.806556   \n",
              "3    23.625000  29.948654  5.688038  35.987172  146.568562  82.394624   \n",
              "4   112.437500  38.295673  0.501943   1.074840    2.812709  18.136883   \n",
              "5   123.531250  53.348784  0.072078  -0.071601    0.781773  10.570833   \n",
              "6   137.242188  46.454740  0.045257  -0.438858   59.495819  77.755357   \n",
              "7   120.554688  45.549905  0.282924   0.419909    1.358696  13.079034   \n",
              "9   100.890625  51.890394  0.627487  -0.026498    3.883779  23.045267   \n",
              "10  141.968750  50.470898  0.244974  -0.342665    2.823579  16.238188   \n",
              "11  123.468750  45.475085  0.345781   0.647415   32.919732  65.094197   \n",
              "13  136.500000  49.932767  0.044623  -0.374311    1.555184  12.813538   \n",
              "14   94.585938  35.779823  1.187309   3.687469    6.071070  29.760400   \n",
              "16  135.859375  51.937272  0.065769  -0.366114   20.774247  52.772648   \n",
              "17  114.281250  41.253965  0.411821   0.616996    2.412207  20.427942   \n",
              "19  136.093750  51.691005 -0.045909  -0.271816    9.342809  38.096400   \n",
              "\n",
              "           x7          x8  \n",
              "0    3.509139   11.503980  \n",
              "1    7.006681   53.514005  \n",
              "2   10.472251  113.011537  \n",
              "3   -0.274902   -1.121848  \n",
              "4    7.859968   71.299449  \n",
              "5   17.118300  339.660826  \n",
              "6    0.719748   -1.183162  \n",
              "7   13.312141  212.597029  \n",
              "9    6.953168   52.279440  \n",
              "10   8.207744   85.532584  \n",
              "11   1.605538    0.871364  \n",
              "13  13.314339  214.813089  \n",
              "14   5.318767   28.698048  \n",
              "16   2.730909    6.607440  \n",
              "17   9.198392   88.370580  \n",
              "19   4.345438   18.673649  "
            ],
            "text/html": [
              "\n",
              "  <div id=\"df-d0726e28-5d10-41f8-b03c-12e1d41f45a1\">\n",
              "    <div class=\"colab-df-container\">\n",
              "      <div>\n",
              "<style scoped>\n",
              "    .dataframe tbody tr th:only-of-type {\n",
              "        vertical-align: middle;\n",
              "    }\n",
              "\n",
              "    .dataframe tbody tr th {\n",
              "        vertical-align: top;\n",
              "    }\n",
              "\n",
              "    .dataframe thead th {\n",
              "        text-align: right;\n",
              "    }\n",
              "</style>\n",
              "<table border=\"1\" class=\"dataframe\">\n",
              "  <thead>\n",
              "    <tr style=\"text-align: right;\">\n",
              "      <th></th>\n",
              "      <th>x1</th>\n",
              "      <th>x2</th>\n",
              "      <th>x3</th>\n",
              "      <th>x4</th>\n",
              "      <th>x5</th>\n",
              "      <th>x6</th>\n",
              "      <th>x7</th>\n",
              "      <th>x8</th>\n",
              "    </tr>\n",
              "  </thead>\n",
              "  <tbody>\n",
              "    <tr>\n",
              "      <th>0</th>\n",
              "      <td>103.523438</td>\n",
              "      <td>45.725739</td>\n",
              "      <td>0.336533</td>\n",
              "      <td>0.520558</td>\n",
              "      <td>11.289298</td>\n",
              "      <td>39.116453</td>\n",
              "      <td>3.509139</td>\n",
              "      <td>11.503980</td>\n",
              "    </tr>\n",
              "    <tr>\n",
              "      <th>1</th>\n",
              "      <td>83.679688</td>\n",
              "      <td>36.379281</td>\n",
              "      <td>0.572532</td>\n",
              "      <td>2.664611</td>\n",
              "      <td>4.040970</td>\n",
              "      <td>23.169129</td>\n",
              "      <td>7.006681</td>\n",
              "      <td>53.514005</td>\n",
              "    </tr>\n",
              "    <tr>\n",
              "      <th>2</th>\n",
              "      <td>107.929688</td>\n",
              "      <td>50.581954</td>\n",
              "      <td>0.320399</td>\n",
              "      <td>0.277613</td>\n",
              "      <td>2.022575</td>\n",
              "      <td>19.806556</td>\n",
              "      <td>10.472251</td>\n",
              "      <td>113.011537</td>\n",
              "    </tr>\n",
              "    <tr>\n",
              "      <th>3</th>\n",
              "      <td>23.625000</td>\n",
              "      <td>29.948654</td>\n",
              "      <td>5.688038</td>\n",
              "      <td>35.987172</td>\n",
              "      <td>146.568562</td>\n",
              "      <td>82.394624</td>\n",
              "      <td>-0.274902</td>\n",
              "      <td>-1.121848</td>\n",
              "    </tr>\n",
              "    <tr>\n",
              "      <th>4</th>\n",
              "      <td>112.437500</td>\n",
              "      <td>38.295673</td>\n",
              "      <td>0.501943</td>\n",
              "      <td>1.074840</td>\n",
              "      <td>2.812709</td>\n",
              "      <td>18.136883</td>\n",
              "      <td>7.859968</td>\n",
              "      <td>71.299449</td>\n",
              "    </tr>\n",
              "    <tr>\n",
              "      <th>5</th>\n",
              "      <td>123.531250</td>\n",
              "      <td>53.348784</td>\n",
              "      <td>0.072078</td>\n",
              "      <td>-0.071601</td>\n",
              "      <td>0.781773</td>\n",
              "      <td>10.570833</td>\n",
              "      <td>17.118300</td>\n",
              "      <td>339.660826</td>\n",
              "    </tr>\n",
              "    <tr>\n",
              "      <th>6</th>\n",
              "      <td>137.242188</td>\n",
              "      <td>46.454740</td>\n",
              "      <td>0.045257</td>\n",
              "      <td>-0.438858</td>\n",
              "      <td>59.495819</td>\n",
              "      <td>77.755357</td>\n",
              "      <td>0.719748</td>\n",
              "      <td>-1.183162</td>\n",
              "    </tr>\n",
              "    <tr>\n",
              "      <th>7</th>\n",
              "      <td>120.554688</td>\n",
              "      <td>45.549905</td>\n",
              "      <td>0.282924</td>\n",
              "      <td>0.419909</td>\n",
              "      <td>1.358696</td>\n",
              "      <td>13.079034</td>\n",
              "      <td>13.312141</td>\n",
              "      <td>212.597029</td>\n",
              "    </tr>\n",
              "    <tr>\n",
              "      <th>9</th>\n",
              "      <td>100.890625</td>\n",
              "      <td>51.890394</td>\n",
              "      <td>0.627487</td>\n",
              "      <td>-0.026498</td>\n",
              "      <td>3.883779</td>\n",
              "      <td>23.045267</td>\n",
              "      <td>6.953168</td>\n",
              "      <td>52.279440</td>\n",
              "    </tr>\n",
              "    <tr>\n",
              "      <th>10</th>\n",
              "      <td>141.968750</td>\n",
              "      <td>50.470898</td>\n",
              "      <td>0.244974</td>\n",
              "      <td>-0.342665</td>\n",
              "      <td>2.823579</td>\n",
              "      <td>16.238188</td>\n",
              "      <td>8.207744</td>\n",
              "      <td>85.532584</td>\n",
              "    </tr>\n",
              "    <tr>\n",
              "      <th>11</th>\n",
              "      <td>123.468750</td>\n",
              "      <td>45.475085</td>\n",
              "      <td>0.345781</td>\n",
              "      <td>0.647415</td>\n",
              "      <td>32.919732</td>\n",
              "      <td>65.094197</td>\n",
              "      <td>1.605538</td>\n",
              "      <td>0.871364</td>\n",
              "    </tr>\n",
              "    <tr>\n",
              "      <th>13</th>\n",
              "      <td>136.500000</td>\n",
              "      <td>49.932767</td>\n",
              "      <td>0.044623</td>\n",
              "      <td>-0.374311</td>\n",
              "      <td>1.555184</td>\n",
              "      <td>12.813538</td>\n",
              "      <td>13.314339</td>\n",
              "      <td>214.813089</td>\n",
              "    </tr>\n",
              "    <tr>\n",
              "      <th>14</th>\n",
              "      <td>94.585938</td>\n",
              "      <td>35.779823</td>\n",
              "      <td>1.187309</td>\n",
              "      <td>3.687469</td>\n",
              "      <td>6.071070</td>\n",
              "      <td>29.760400</td>\n",
              "      <td>5.318767</td>\n",
              "      <td>28.698048</td>\n",
              "    </tr>\n",
              "    <tr>\n",
              "      <th>16</th>\n",
              "      <td>135.859375</td>\n",
              "      <td>51.937272</td>\n",
              "      <td>0.065769</td>\n",
              "      <td>-0.366114</td>\n",
              "      <td>20.774247</td>\n",
              "      <td>52.772648</td>\n",
              "      <td>2.730909</td>\n",
              "      <td>6.607440</td>\n",
              "    </tr>\n",
              "    <tr>\n",
              "      <th>17</th>\n",
              "      <td>114.281250</td>\n",
              "      <td>41.253965</td>\n",
              "      <td>0.411821</td>\n",
              "      <td>0.616996</td>\n",
              "      <td>2.412207</td>\n",
              "      <td>20.427942</td>\n",
              "      <td>9.198392</td>\n",
              "      <td>88.370580</td>\n",
              "    </tr>\n",
              "    <tr>\n",
              "      <th>19</th>\n",
              "      <td>136.093750</td>\n",
              "      <td>51.691005</td>\n",
              "      <td>-0.045909</td>\n",
              "      <td>-0.271816</td>\n",
              "      <td>9.342809</td>\n",
              "      <td>38.096400</td>\n",
              "      <td>4.345438</td>\n",
              "      <td>18.673649</td>\n",
              "    </tr>\n",
              "  </tbody>\n",
              "</table>\n",
              "</div>\n",
              "      <button class=\"colab-df-convert\" onclick=\"convertToInteractive('df-d0726e28-5d10-41f8-b03c-12e1d41f45a1')\"\n",
              "              title=\"Convert this dataframe to an interactive table.\"\n",
              "              style=\"display:none;\">\n",
              "        \n",
              "  <svg xmlns=\"http://www.w3.org/2000/svg\" height=\"24px\"viewBox=\"0 0 24 24\"\n",
              "       width=\"24px\">\n",
              "    <path d=\"M0 0h24v24H0V0z\" fill=\"none\"/>\n",
              "    <path d=\"M18.56 5.44l.94 2.06.94-2.06 2.06-.94-2.06-.94-.94-2.06-.94 2.06-2.06.94zm-11 1L8.5 8.5l.94-2.06 2.06-.94-2.06-.94L8.5 2.5l-.94 2.06-2.06.94zm10 10l.94 2.06.94-2.06 2.06-.94-2.06-.94-.94-2.06-.94 2.06-2.06.94z\"/><path d=\"M17.41 7.96l-1.37-1.37c-.4-.4-.92-.59-1.43-.59-.52 0-1.04.2-1.43.59L10.3 9.45l-7.72 7.72c-.78.78-.78 2.05 0 2.83L4 21.41c.39.39.9.59 1.41.59.51 0 1.02-.2 1.41-.59l7.78-7.78 2.81-2.81c.8-.78.8-2.07 0-2.86zM5.41 20L4 18.59l7.72-7.72 1.47 1.35L5.41 20z\"/>\n",
              "  </svg>\n",
              "      </button>\n",
              "      \n",
              "  <style>\n",
              "    .colab-df-container {\n",
              "      display:flex;\n",
              "      flex-wrap:wrap;\n",
              "      gap: 12px;\n",
              "    }\n",
              "\n",
              "    .colab-df-convert {\n",
              "      background-color: #E8F0FE;\n",
              "      border: none;\n",
              "      border-radius: 50%;\n",
              "      cursor: pointer;\n",
              "      display: none;\n",
              "      fill: #1967D2;\n",
              "      height: 32px;\n",
              "      padding: 0 0 0 0;\n",
              "      width: 32px;\n",
              "    }\n",
              "\n",
              "    .colab-df-convert:hover {\n",
              "      background-color: #E2EBFA;\n",
              "      box-shadow: 0px 1px 2px rgba(60, 64, 67, 0.3), 0px 1px 3px 1px rgba(60, 64, 67, 0.15);\n",
              "      fill: #174EA6;\n",
              "    }\n",
              "\n",
              "    [theme=dark] .colab-df-convert {\n",
              "      background-color: #3B4455;\n",
              "      fill: #D2E3FC;\n",
              "    }\n",
              "\n",
              "    [theme=dark] .colab-df-convert:hover {\n",
              "      background-color: #434B5C;\n",
              "      box-shadow: 0px 1px 3px 1px rgba(0, 0, 0, 0.15);\n",
              "      filter: drop-shadow(0px 1px 2px rgba(0, 0, 0, 0.3));\n",
              "      fill: #FFFFFF;\n",
              "    }\n",
              "  </style>\n",
              "\n",
              "      <script>\n",
              "        const buttonEl =\n",
              "          document.querySelector('#df-d0726e28-5d10-41f8-b03c-12e1d41f45a1 button.colab-df-convert');\n",
              "        buttonEl.style.display =\n",
              "          google.colab.kernel.accessAllowed ? 'block' : 'none';\n",
              "\n",
              "        async function convertToInteractive(key) {\n",
              "          const element = document.querySelector('#df-d0726e28-5d10-41f8-b03c-12e1d41f45a1');\n",
              "          const dataTable =\n",
              "            await google.colab.kernel.invokeFunction('convertToInteractive',\n",
              "                                                     [key], {});\n",
              "          if (!dataTable) return;\n",
              "\n",
              "          const docLinkHtml = 'Like what you see? Visit the ' +\n",
              "            '<a target=\"_blank\" href=https://colab.research.google.com/notebooks/data_table.ipynb>data table notebook</a>'\n",
              "            + ' to learn more about interactive tables.';\n",
              "          element.innerHTML = '';\n",
              "          dataTable['output_type'] = 'display_data';\n",
              "          await google.colab.output.renderOutput(dataTable, element);\n",
              "          const docLink = document.createElement('div');\n",
              "          docLink.innerHTML = docLinkHtml;\n",
              "          element.appendChild(docLink);\n",
              "        }\n",
              "      </script>\n",
              "    </div>\n",
              "  </div>\n",
              "  "
            ]
          },
          "metadata": {},
          "execution_count": 11
        }
      ]
    },
    {
      "cell_type": "code",
      "source": [
        "X_test"
      ],
      "metadata": {
        "colab": {
          "base_uri": "https://localhost:8080/",
          "height": 175
        },
        "id": "J4sInSN-IyBA",
        "outputId": "7d614c15-08fc-4a08-9b16-c71914e3c93f"
      },
      "execution_count": 12,
      "outputs": [
        {
          "output_type": "execute_result",
          "data": {
            "text/plain": [
              "            x1         x2        x3         x4         x5         x6  \\\n",
              "15  121.882812  53.042675  0.200521  -0.282219   2.116221  16.580876   \n",
              "12  125.210938  51.175197  0.139851  -0.385737   1.147993  12.414012   \n",
              "18   27.765625  28.666042  5.770087  37.419009  73.112876  62.070220   \n",
              "8    99.367188  41.572202  1.547197   4.154106  27.555184  61.719016   \n",
              "\n",
              "           x7          x8  \n",
              "15   8.947603   91.011762  \n",
              "12  14.068797  228.131554  \n",
              "18   1.268206    1.082920  \n",
              "8    2.208808    3.662680  "
            ],
            "text/html": [
              "\n",
              "  <div id=\"df-2fc5d0b2-85a0-4918-b5e9-ca8da2baef9e\">\n",
              "    <div class=\"colab-df-container\">\n",
              "      <div>\n",
              "<style scoped>\n",
              "    .dataframe tbody tr th:only-of-type {\n",
              "        vertical-align: middle;\n",
              "    }\n",
              "\n",
              "    .dataframe tbody tr th {\n",
              "        vertical-align: top;\n",
              "    }\n",
              "\n",
              "    .dataframe thead th {\n",
              "        text-align: right;\n",
              "    }\n",
              "</style>\n",
              "<table border=\"1\" class=\"dataframe\">\n",
              "  <thead>\n",
              "    <tr style=\"text-align: right;\">\n",
              "      <th></th>\n",
              "      <th>x1</th>\n",
              "      <th>x2</th>\n",
              "      <th>x3</th>\n",
              "      <th>x4</th>\n",
              "      <th>x5</th>\n",
              "      <th>x6</th>\n",
              "      <th>x7</th>\n",
              "      <th>x8</th>\n",
              "    </tr>\n",
              "  </thead>\n",
              "  <tbody>\n",
              "    <tr>\n",
              "      <th>15</th>\n",
              "      <td>121.882812</td>\n",
              "      <td>53.042675</td>\n",
              "      <td>0.200521</td>\n",
              "      <td>-0.282219</td>\n",
              "      <td>2.116221</td>\n",
              "      <td>16.580876</td>\n",
              "      <td>8.947603</td>\n",
              "      <td>91.011762</td>\n",
              "    </tr>\n",
              "    <tr>\n",
              "      <th>12</th>\n",
              "      <td>125.210938</td>\n",
              "      <td>51.175197</td>\n",
              "      <td>0.139851</td>\n",
              "      <td>-0.385737</td>\n",
              "      <td>1.147993</td>\n",
              "      <td>12.414012</td>\n",
              "      <td>14.068797</td>\n",
              "      <td>228.131554</td>\n",
              "    </tr>\n",
              "    <tr>\n",
              "      <th>18</th>\n",
              "      <td>27.765625</td>\n",
              "      <td>28.666042</td>\n",
              "      <td>5.770087</td>\n",
              "      <td>37.419009</td>\n",
              "      <td>73.112876</td>\n",
              "      <td>62.070220</td>\n",
              "      <td>1.268206</td>\n",
              "      <td>1.082920</td>\n",
              "    </tr>\n",
              "    <tr>\n",
              "      <th>8</th>\n",
              "      <td>99.367188</td>\n",
              "      <td>41.572202</td>\n",
              "      <td>1.547197</td>\n",
              "      <td>4.154106</td>\n",
              "      <td>27.555184</td>\n",
              "      <td>61.719016</td>\n",
              "      <td>2.208808</td>\n",
              "      <td>3.662680</td>\n",
              "    </tr>\n",
              "  </tbody>\n",
              "</table>\n",
              "</div>\n",
              "      <button class=\"colab-df-convert\" onclick=\"convertToInteractive('df-2fc5d0b2-85a0-4918-b5e9-ca8da2baef9e')\"\n",
              "              title=\"Convert this dataframe to an interactive table.\"\n",
              "              style=\"display:none;\">\n",
              "        \n",
              "  <svg xmlns=\"http://www.w3.org/2000/svg\" height=\"24px\"viewBox=\"0 0 24 24\"\n",
              "       width=\"24px\">\n",
              "    <path d=\"M0 0h24v24H0V0z\" fill=\"none\"/>\n",
              "    <path d=\"M18.56 5.44l.94 2.06.94-2.06 2.06-.94-2.06-.94-.94-2.06-.94 2.06-2.06.94zm-11 1L8.5 8.5l.94-2.06 2.06-.94-2.06-.94L8.5 2.5l-.94 2.06-2.06.94zm10 10l.94 2.06.94-2.06 2.06-.94-2.06-.94-.94-2.06-.94 2.06-2.06.94z\"/><path d=\"M17.41 7.96l-1.37-1.37c-.4-.4-.92-.59-1.43-.59-.52 0-1.04.2-1.43.59L10.3 9.45l-7.72 7.72c-.78.78-.78 2.05 0 2.83L4 21.41c.39.39.9.59 1.41.59.51 0 1.02-.2 1.41-.59l7.78-7.78 2.81-2.81c.8-.78.8-2.07 0-2.86zM5.41 20L4 18.59l7.72-7.72 1.47 1.35L5.41 20z\"/>\n",
              "  </svg>\n",
              "      </button>\n",
              "      \n",
              "  <style>\n",
              "    .colab-df-container {\n",
              "      display:flex;\n",
              "      flex-wrap:wrap;\n",
              "      gap: 12px;\n",
              "    }\n",
              "\n",
              "    .colab-df-convert {\n",
              "      background-color: #E8F0FE;\n",
              "      border: none;\n",
              "      border-radius: 50%;\n",
              "      cursor: pointer;\n",
              "      display: none;\n",
              "      fill: #1967D2;\n",
              "      height: 32px;\n",
              "      padding: 0 0 0 0;\n",
              "      width: 32px;\n",
              "    }\n",
              "\n",
              "    .colab-df-convert:hover {\n",
              "      background-color: #E2EBFA;\n",
              "      box-shadow: 0px 1px 2px rgba(60, 64, 67, 0.3), 0px 1px 3px 1px rgba(60, 64, 67, 0.15);\n",
              "      fill: #174EA6;\n",
              "    }\n",
              "\n",
              "    [theme=dark] .colab-df-convert {\n",
              "      background-color: #3B4455;\n",
              "      fill: #D2E3FC;\n",
              "    }\n",
              "\n",
              "    [theme=dark] .colab-df-convert:hover {\n",
              "      background-color: #434B5C;\n",
              "      box-shadow: 0px 1px 3px 1px rgba(0, 0, 0, 0.15);\n",
              "      filter: drop-shadow(0px 1px 2px rgba(0, 0, 0, 0.3));\n",
              "      fill: #FFFFFF;\n",
              "    }\n",
              "  </style>\n",
              "\n",
              "      <script>\n",
              "        const buttonEl =\n",
              "          document.querySelector('#df-2fc5d0b2-85a0-4918-b5e9-ca8da2baef9e button.colab-df-convert');\n",
              "        buttonEl.style.display =\n",
              "          google.colab.kernel.accessAllowed ? 'block' : 'none';\n",
              "\n",
              "        async function convertToInteractive(key) {\n",
              "          const element = document.querySelector('#df-2fc5d0b2-85a0-4918-b5e9-ca8da2baef9e');\n",
              "          const dataTable =\n",
              "            await google.colab.kernel.invokeFunction('convertToInteractive',\n",
              "                                                     [key], {});\n",
              "          if (!dataTable) return;\n",
              "\n",
              "          const docLinkHtml = 'Like what you see? Visit the ' +\n",
              "            '<a target=\"_blank\" href=https://colab.research.google.com/notebooks/data_table.ipynb>data table notebook</a>'\n",
              "            + ' to learn more about interactive tables.';\n",
              "          element.innerHTML = '';\n",
              "          dataTable['output_type'] = 'display_data';\n",
              "          await google.colab.output.renderOutput(dataTable, element);\n",
              "          const docLink = document.createElement('div');\n",
              "          docLink.innerHTML = docLinkHtml;\n",
              "          element.appendChild(docLink);\n",
              "        }\n",
              "      </script>\n",
              "    </div>\n",
              "  </div>\n",
              "  "
            ]
          },
          "metadata": {},
          "execution_count": 12
        }
      ]
    },
    {
      "cell_type": "code",
      "source": [
        "#미니 배치로 데이터 나누기\n",
        "\n",
        "def mini_batch():\n",
        "  #4개씩 x_train을 나누기\n",
        "  \n",
        "  global mini_1,mini_2,mini_3,mini_4\n",
        "  \n",
        "  mini_1 = X_train.iloc[0:4,:]\n",
        "  mini_2 = X_train.iloc[4:8,:]\n",
        "  mini_3 = X_train.iloc[8:12,:]\n",
        "  mini_4 = X_train.iloc[12:16,:]\n"
      ],
      "metadata": {
        "id": "wAsowJkw_n2-"
      },
      "execution_count": 13,
      "outputs": []
    },
    {
      "cell_type": "code",
      "source": [
        "mini_batch()"
      ],
      "metadata": {
        "id": "A7RDqOfzZL5E"
      },
      "execution_count": 14,
      "outputs": []
    },
    {
      "cell_type": "code",
      "source": [
        "mini_1"
      ],
      "metadata": {
        "id": "GDEgPHP4ZX39",
        "outputId": "94607042-92ae-4024-ca9c-78f22897726d",
        "colab": {
          "base_uri": "https://localhost:8080/",
          "height": 175
        }
      },
      "execution_count": 15,
      "outputs": [
        {
          "output_type": "execute_result",
          "data": {
            "text/plain": [
              "           x1         x2        x3         x4          x5         x6  \\\n",
              "0  103.523438  45.725739  0.336533   0.520558   11.289298  39.116453   \n",
              "1   83.679688  36.379281  0.572532   2.664611    4.040970  23.169129   \n",
              "2  107.929688  50.581954  0.320399   0.277613    2.022575  19.806556   \n",
              "3   23.625000  29.948654  5.688038  35.987172  146.568562  82.394624   \n",
              "\n",
              "          x7          x8  \n",
              "0   3.509139   11.503980  \n",
              "1   7.006681   53.514005  \n",
              "2  10.472251  113.011537  \n",
              "3  -0.274902   -1.121848  "
            ],
            "text/html": [
              "\n",
              "  <div id=\"df-f1948558-5cdb-48f4-a2aa-39154c64628d\">\n",
              "    <div class=\"colab-df-container\">\n",
              "      <div>\n",
              "<style scoped>\n",
              "    .dataframe tbody tr th:only-of-type {\n",
              "        vertical-align: middle;\n",
              "    }\n",
              "\n",
              "    .dataframe tbody tr th {\n",
              "        vertical-align: top;\n",
              "    }\n",
              "\n",
              "    .dataframe thead th {\n",
              "        text-align: right;\n",
              "    }\n",
              "</style>\n",
              "<table border=\"1\" class=\"dataframe\">\n",
              "  <thead>\n",
              "    <tr style=\"text-align: right;\">\n",
              "      <th></th>\n",
              "      <th>x1</th>\n",
              "      <th>x2</th>\n",
              "      <th>x3</th>\n",
              "      <th>x4</th>\n",
              "      <th>x5</th>\n",
              "      <th>x6</th>\n",
              "      <th>x7</th>\n",
              "      <th>x8</th>\n",
              "    </tr>\n",
              "  </thead>\n",
              "  <tbody>\n",
              "    <tr>\n",
              "      <th>0</th>\n",
              "      <td>103.523438</td>\n",
              "      <td>45.725739</td>\n",
              "      <td>0.336533</td>\n",
              "      <td>0.520558</td>\n",
              "      <td>11.289298</td>\n",
              "      <td>39.116453</td>\n",
              "      <td>3.509139</td>\n",
              "      <td>11.503980</td>\n",
              "    </tr>\n",
              "    <tr>\n",
              "      <th>1</th>\n",
              "      <td>83.679688</td>\n",
              "      <td>36.379281</td>\n",
              "      <td>0.572532</td>\n",
              "      <td>2.664611</td>\n",
              "      <td>4.040970</td>\n",
              "      <td>23.169129</td>\n",
              "      <td>7.006681</td>\n",
              "      <td>53.514005</td>\n",
              "    </tr>\n",
              "    <tr>\n",
              "      <th>2</th>\n",
              "      <td>107.929688</td>\n",
              "      <td>50.581954</td>\n",
              "      <td>0.320399</td>\n",
              "      <td>0.277613</td>\n",
              "      <td>2.022575</td>\n",
              "      <td>19.806556</td>\n",
              "      <td>10.472251</td>\n",
              "      <td>113.011537</td>\n",
              "    </tr>\n",
              "    <tr>\n",
              "      <th>3</th>\n",
              "      <td>23.625000</td>\n",
              "      <td>29.948654</td>\n",
              "      <td>5.688038</td>\n",
              "      <td>35.987172</td>\n",
              "      <td>146.568562</td>\n",
              "      <td>82.394624</td>\n",
              "      <td>-0.274902</td>\n",
              "      <td>-1.121848</td>\n",
              "    </tr>\n",
              "  </tbody>\n",
              "</table>\n",
              "</div>\n",
              "      <button class=\"colab-df-convert\" onclick=\"convertToInteractive('df-f1948558-5cdb-48f4-a2aa-39154c64628d')\"\n",
              "              title=\"Convert this dataframe to an interactive table.\"\n",
              "              style=\"display:none;\">\n",
              "        \n",
              "  <svg xmlns=\"http://www.w3.org/2000/svg\" height=\"24px\"viewBox=\"0 0 24 24\"\n",
              "       width=\"24px\">\n",
              "    <path d=\"M0 0h24v24H0V0z\" fill=\"none\"/>\n",
              "    <path d=\"M18.56 5.44l.94 2.06.94-2.06 2.06-.94-2.06-.94-.94-2.06-.94 2.06-2.06.94zm-11 1L8.5 8.5l.94-2.06 2.06-.94-2.06-.94L8.5 2.5l-.94 2.06-2.06.94zm10 10l.94 2.06.94-2.06 2.06-.94-2.06-.94-.94-2.06-.94 2.06-2.06.94z\"/><path d=\"M17.41 7.96l-1.37-1.37c-.4-.4-.92-.59-1.43-.59-.52 0-1.04.2-1.43.59L10.3 9.45l-7.72 7.72c-.78.78-.78 2.05 0 2.83L4 21.41c.39.39.9.59 1.41.59.51 0 1.02-.2 1.41-.59l7.78-7.78 2.81-2.81c.8-.78.8-2.07 0-2.86zM5.41 20L4 18.59l7.72-7.72 1.47 1.35L5.41 20z\"/>\n",
              "  </svg>\n",
              "      </button>\n",
              "      \n",
              "  <style>\n",
              "    .colab-df-container {\n",
              "      display:flex;\n",
              "      flex-wrap:wrap;\n",
              "      gap: 12px;\n",
              "    }\n",
              "\n",
              "    .colab-df-convert {\n",
              "      background-color: #E8F0FE;\n",
              "      border: none;\n",
              "      border-radius: 50%;\n",
              "      cursor: pointer;\n",
              "      display: none;\n",
              "      fill: #1967D2;\n",
              "      height: 32px;\n",
              "      padding: 0 0 0 0;\n",
              "      width: 32px;\n",
              "    }\n",
              "\n",
              "    .colab-df-convert:hover {\n",
              "      background-color: #E2EBFA;\n",
              "      box-shadow: 0px 1px 2px rgba(60, 64, 67, 0.3), 0px 1px 3px 1px rgba(60, 64, 67, 0.15);\n",
              "      fill: #174EA6;\n",
              "    }\n",
              "\n",
              "    [theme=dark] .colab-df-convert {\n",
              "      background-color: #3B4455;\n",
              "      fill: #D2E3FC;\n",
              "    }\n",
              "\n",
              "    [theme=dark] .colab-df-convert:hover {\n",
              "      background-color: #434B5C;\n",
              "      box-shadow: 0px 1px 3px 1px rgba(0, 0, 0, 0.15);\n",
              "      filter: drop-shadow(0px 1px 2px rgba(0, 0, 0, 0.3));\n",
              "      fill: #FFFFFF;\n",
              "    }\n",
              "  </style>\n",
              "\n",
              "      <script>\n",
              "        const buttonEl =\n",
              "          document.querySelector('#df-f1948558-5cdb-48f4-a2aa-39154c64628d button.colab-df-convert');\n",
              "        buttonEl.style.display =\n",
              "          google.colab.kernel.accessAllowed ? 'block' : 'none';\n",
              "\n",
              "        async function convertToInteractive(key) {\n",
              "          const element = document.querySelector('#df-f1948558-5cdb-48f4-a2aa-39154c64628d');\n",
              "          const dataTable =\n",
              "            await google.colab.kernel.invokeFunction('convertToInteractive',\n",
              "                                                     [key], {});\n",
              "          if (!dataTable) return;\n",
              "\n",
              "          const docLinkHtml = 'Like what you see? Visit the ' +\n",
              "            '<a target=\"_blank\" href=https://colab.research.google.com/notebooks/data_table.ipynb>data table notebook</a>'\n",
              "            + ' to learn more about interactive tables.';\n",
              "          element.innerHTML = '';\n",
              "          dataTable['output_type'] = 'display_data';\n",
              "          await google.colab.output.renderOutput(dataTable, element);\n",
              "          const docLink = document.createElement('div');\n",
              "          docLink.innerHTML = docLinkHtml;\n",
              "          element.appendChild(docLink);\n",
              "        }\n",
              "      </script>\n",
              "    </div>\n",
              "  </div>\n",
              "  "
            ]
          },
          "metadata": {},
          "execution_count": 15
        }
      ]
    },
    {
      "cell_type": "code",
      "source": [
        "weight"
      ],
      "metadata": {
        "id": "zt3Q4S8LELy4",
        "outputId": "405986ae-ac21-428a-eab1-c44910d7d020",
        "colab": {
          "base_uri": "https://localhost:8080/"
        }
      },
      "execution_count": 30,
      "outputs": [
        {
          "output_type": "execute_result",
          "data": {
            "text/plain": [
              "array([ 1.31447862,  0.71202227, -0.82563055,  1.38455224, -1.51596663,\n",
              "       -1.50360796, -0.18263247, -0.74372485])"
            ]
          },
          "metadata": {},
          "execution_count": 30
        }
      ]
    },
    {
      "cell_type": "code",
      "source": [
        "#제대로 되는지 테스트\n",
        "temp_w=mini_1 * weight #가중치 연산은 제대로 되는 것을 확인\n",
        "res = temp_w.apply(np.sum,axis = 1) + bias #연산도 제대로 확인\n",
        "res_sigmoid = res.apply(lambda x : 1 / (1 + np.exp(-x)) )\n",
        "res_sigmoid "
      ],
      "metadata": {
        "id": "-Ix9D7veED1N",
        "outputId": "7a74d4be-3486-4810-9104-d99e49ad3397",
        "colab": {
          "base_uri": "https://localhost:8080/"
        }
      },
      "execution_count": 33,
      "outputs": [
        {
          "output_type": "execute_result",
          "data": {
            "text/plain": [
              "0     1.000000e+00\n",
              "1     1.000000e+00\n",
              "2     1.000000e+00\n",
              "3    2.718413e-108\n",
              "dtype: float64"
            ]
          },
          "metadata": {},
          "execution_count": 33
        }
      ]
    },
    {
      "cell_type": "code",
      "source": [
        "def forward_propa():\n",
        "  #각 데이터를 가중치를 곱하고 bias를 더해서 리턴하기\n",
        "  \n",
        "  li = [mini_1,mini_2,mini_3,mini_4]\n",
        "  tt = []\n",
        "  for i in li:\n",
        "    temp = i * weight \n",
        "    res = temp.apply(np.sum,axis = 1) + bias\n",
        "    \n",
        "    #가중치-편향 연산에 시그모이드 함수를 apply를 쓰기\n",
        "    res_activated = res.apply(lambda x : 1 / (1 + np.exp(-x)) )\n",
        "  \n",
        "    #조건문으로 0.5이상이면 1을 아니면 0을 리턴하기\n",
        "    #ans = [1 if i >= 0.5 else 0 for i in res_activated]\n",
        "    ans = []\n",
        "    for i in res_activated:\n",
        "      if i >= 0.5:\n",
        "        ans.append(1)\n",
        "      else:\n",
        "        ans.append(0)\n",
        "    \n",
        "    \n",
        "    tt.append(ans)\n",
        "\n",
        "  global predict_1,predict_2,predict_3,predict_4\n",
        "\n",
        "  predict_1 = tt[0]\n",
        "  predict_2 = tt[1]\n",
        "  predict_3 = tt[2]\n",
        "  predict_4 = tt[3]\n",
        "  \n"
      ],
      "metadata": {
        "id": "_Y6rXpMB_43b"
      },
      "execution_count": 16,
      "outputs": []
    },
    {
      "cell_type": "code",
      "source": [
        "forward_propa()\n",
        "#0인덱스 데이터 가중치-편향 연산 결과 \n"
      ],
      "metadata": {
        "id": "9XNSs1qYg4Sr"
      },
      "execution_count": 17,
      "outputs": []
    },
    {
      "cell_type": "code",
      "source": [
        "predict_4"
      ],
      "metadata": {
        "id": "py0f9HPqiqZZ",
        "outputId": "e055bb18-2c9d-4f15-ccdc-cc2dd5c1bfd0",
        "colab": {
          "base_uri": "https://localhost:8080/"
        }
      },
      "execution_count": 18,
      "outputs": [
        {
          "output_type": "execute_result",
          "data": {
            "text/plain": [
              "[1, 1, 1, 1]"
            ]
          },
          "metadata": {},
          "execution_count": 18
        }
      ]
    },
    {
      "cell_type": "code",
      "source": [
        "#정확도 산출하기\n",
        "\n",
        "def acc():\n",
        "  mean_1 = np.mean(y_train[0:4]   == predict_1)\n",
        "  mean_2 = np.mean(y_train[4:8]   == predict_2)\n",
        "  mean_3 = np.mean(y_train[8:12]  == predict_3)\n",
        "  mean_4 = np.mean(y_train[12:16] == predict_4)\n",
        "\n",
        "  global accuracy\n",
        "\n",
        "  accuracy = np.mean((mean_1,mean_2,mean_3,mean_4))\n",
        "\n"
      ],
      "metadata": {
        "id": "4G3Hqg_eYbky"
      },
      "execution_count": 19,
      "outputs": []
    },
    {
      "cell_type": "code",
      "source": [
        "acc() #모델의 정확도 확인"
      ],
      "metadata": {
        "id": "x2hgkw1GZh60"
      },
      "execution_count": 20,
      "outputs": []
    },
    {
      "cell_type": "code",
      "source": [
        "accuracy"
      ],
      "metadata": {
        "id": "X8DcYB0tjHYf",
        "outputId": "d70f3ed1-006a-440d-c4fe-5e62967d01ce",
        "colab": {
          "base_uri": "https://localhost:8080/"
        }
      },
      "execution_count": 21,
      "outputs": [
        {
          "output_type": "execute_result",
          "data": {
            "text/plain": [
              "0.25"
            ]
          },
          "metadata": {},
          "execution_count": 21
        }
      ]
    },
    {
      "cell_type": "markdown",
      "source": [
        "L\n",
        "=\n",
        "−\n",
        "1\n",
        "N\n",
        "∑\n",
        "N\n",
        "i\n",
        "=\n",
        "1\n",
        "t\n",
        "i\n",
        "l\n",
        "o\n",
        "g\n",
        "(\n",
        "y\n",
        "i\n",
        ")\n",
        "+\n",
        "(\n",
        "1\n",
        "−\n",
        "t\n",
        "i\n",
        ")\n",
        "l\n",
        "o\n",
        "g\n",
        "(\n",
        "1\n",
        "−\n",
        "y\n",
        "i\n",
        ")\n",
        "   ...(binary crossentropy)"
      ],
      "metadata": {
        "id": "XXCMI6qfO0Xb"
      }
    },
    {
      "cell_type": "markdown",
      "source": [
        "yi는 예측값, ti는 실제값"
      ],
      "metadata": {
        "id": "WWlMs57lCQlO"
      }
    },
    {
      "cell_type": "code",
      "source": [
        "np.log10(10)"
      ],
      "metadata": {
        "id": "IyDiYYGrB2zM",
        "outputId": "b1c3b763-fd3c-4c72-949d-8bef77c206bc",
        "colab": {
          "base_uri": "https://localhost:8080/"
        }
      },
      "execution_count": 22,
      "outputs": [
        {
          "output_type": "execute_result",
          "data": {
            "text/plain": [
              "1.0"
            ]
          },
          "metadata": {},
          "execution_count": 22
        }
      ]
    },
    {
      "cell_type": "code",
      "source": [
        "y_train[0:4] #ti"
      ],
      "metadata": {
        "id": "qR3zVlykMk1H",
        "outputId": "c9ec9b16-b7b8-406a-a758-ad946fd8fd73",
        "colab": {
          "base_uri": "https://localhost:8080/"
        }
      },
      "execution_count": 50,
      "outputs": [
        {
          "output_type": "execute_result",
          "data": {
            "text/plain": [
              "0    0\n",
              "1    0\n",
              "2    0\n",
              "3    1\n",
              "Name: y, dtype: int64"
            ]
          },
          "metadata": {},
          "execution_count": 50
        }
      ]
    },
    {
      "cell_type": "code",
      "source": [
        "predict_1 #yi"
      ],
      "metadata": {
        "id": "7oLWwUlqCcLt",
        "outputId": "f19587f6-ee44-411d-8aa3-32d7a1e0dd38",
        "colab": {
          "base_uri": "https://localhost:8080/"
        }
      },
      "execution_count": 47,
      "outputs": [
        {
          "output_type": "execute_result",
          "data": {
            "text/plain": [
              "[1, 1, 1, 0]"
            ]
          },
          "metadata": {},
          "execution_count": 47
        }
      ]
    },
    {
      "cell_type": "markdown",
      "source": [
        "\n",
        "t\n",
        "i\n",
        "l\n",
        "o\n",
        "g\n",
        "(\n",
        "y\n",
        "i\n",
        ")\n",
        "+\n",
        "(\n",
        "1\n",
        "−\n",
        "t\n",
        "i\n",
        ")\n",
        "l\n",
        "o\n",
        "g\n",
        "(\n",
        "1\n",
        "−\n",
        "y\n",
        "i\n",
        ")"
      ],
      "metadata": {
        "id": "Cx-WX9dyQIOJ"
      }
    },
    {
      "cell_type": "code",
      "source": [
        "\n",
        "lim = []\n",
        "for i in range(4):\n",
        "  a = (y_train[0:4][i] * np.log(predict_1[i])) + ((1 - y_train[0:4][i]) * np.log(1 - predict_1[i]))\n",
        "  lim.append(a)\n",
        "\n",
        "lim\n"
      ],
      "metadata": {
        "id": "cyeTtgKnMqh7",
        "outputId": "1262cb0a-2c0d-4a0d-c44d-94b47595419f",
        "colab": {
          "base_uri": "https://localhost:8080/"
        }
      },
      "execution_count": 52,
      "outputs": [
        {
          "output_type": "stream",
          "name": "stderr",
          "text": [
            "<ipython-input-52-f4742e648df8>:3: RuntimeWarning: divide by zero encountered in log\n",
            "  a = (y_train[0:4][i] * np.log(predict_1[i])) + ((1 - y_train[0:4][i]) * np.log(1 - predict_1[i]))\n"
          ]
        },
        {
          "output_type": "execute_result",
          "data": {
            "text/plain": [
              "[-inf, -inf, -inf, -inf]"
            ]
          },
          "metadata": {},
          "execution_count": 52
        }
      ]
    }
  ]
}