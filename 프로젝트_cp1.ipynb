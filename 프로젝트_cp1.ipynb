{
  "nbformat": 4,
  "nbformat_minor": 0,
  "metadata": {
    "colab": {
      "provenance": []
    },
    "kernelspec": {
      "name": "python3",
      "display_name": "Python 3"
    },
    "language_info": {
      "name": "python"
    }
  },
  "cells": [
    {
      "cell_type": "markdown",
      "source": [
        "# 먼저 라이브러리들을 사용해서 이진 분류 해보자"
      ],
      "metadata": {
        "id": "VqJeHjpWjh8y"
      }
    },
    {
      "cell_type": "code",
      "execution_count": null,
      "metadata": {
        "id": "qnlUsO9cjduf"
      },
      "outputs": [],
      "source": [
        "import pandas as pd\n",
        "import tensorflow as tf"
      ]
    },
    {
      "cell_type": "code",
      "source": [
        "#데이터 불러오기\n",
        "df = pd.read_csv('binary_dataset.csv')\n",
        "#df"
      ],
      "metadata": {
        "id": "XIVmimhRjqMc"
      },
      "execution_count": null,
      "outputs": []
    },
    {
      "cell_type": "code",
      "source": [
        "df.head()"
      ],
      "metadata": {
        "colab": {
          "base_uri": "https://localhost:8080/",
          "height": 206
        },
        "id": "7mKxYlwXk9h-",
        "outputId": "49d0145c-21f0-4e1f-e5bc-667f826cff8e"
      },
      "execution_count": null,
      "outputs": [
        {
          "output_type": "execute_result",
          "data": {
            "text/plain": [
              "           x1         x2        x3        x4         x5         x6         x7  \\\n",
              "0  136.093750  51.691005 -0.045909 -0.271816   9.342809  38.096400   4.345438   \n",
              "1   99.367188  41.572202  1.547197  4.154106  27.555184  61.719016   2.208808   \n",
              "2  100.890625  51.890394  0.627487 -0.026498   3.883779  23.045267   6.953168   \n",
              "3  120.554688  45.549905  0.282924  0.419909   1.358696  13.079034  13.312141   \n",
              "4  121.882812  53.042675  0.200521 -0.282219   2.116221  16.580876   8.947603   \n",
              "\n",
              "           x8  y  \n",
              "0   18.673649  0  \n",
              "1    3.662680  1  \n",
              "2   52.279440  0  \n",
              "3  212.597029  1  \n",
              "4   91.011762  0  "
            ],
            "text/html": [
              "\n",
              "  <div id=\"df-2143ad9e-66df-4997-bb0b-d4bd4560c72c\">\n",
              "    <div class=\"colab-df-container\">\n",
              "      <div>\n",
              "<style scoped>\n",
              "    .dataframe tbody tr th:only-of-type {\n",
              "        vertical-align: middle;\n",
              "    }\n",
              "\n",
              "    .dataframe tbody tr th {\n",
              "        vertical-align: top;\n",
              "    }\n",
              "\n",
              "    .dataframe thead th {\n",
              "        text-align: right;\n",
              "    }\n",
              "</style>\n",
              "<table border=\"1\" class=\"dataframe\">\n",
              "  <thead>\n",
              "    <tr style=\"text-align: right;\">\n",
              "      <th></th>\n",
              "      <th>x1</th>\n",
              "      <th>x2</th>\n",
              "      <th>x3</th>\n",
              "      <th>x4</th>\n",
              "      <th>x5</th>\n",
              "      <th>x6</th>\n",
              "      <th>x7</th>\n",
              "      <th>x8</th>\n",
              "      <th>y</th>\n",
              "    </tr>\n",
              "  </thead>\n",
              "  <tbody>\n",
              "    <tr>\n",
              "      <th>0</th>\n",
              "      <td>136.093750</td>\n",
              "      <td>51.691005</td>\n",
              "      <td>-0.045909</td>\n",
              "      <td>-0.271816</td>\n",
              "      <td>9.342809</td>\n",
              "      <td>38.096400</td>\n",
              "      <td>4.345438</td>\n",
              "      <td>18.673649</td>\n",
              "      <td>0</td>\n",
              "    </tr>\n",
              "    <tr>\n",
              "      <th>1</th>\n",
              "      <td>99.367188</td>\n",
              "      <td>41.572202</td>\n",
              "      <td>1.547197</td>\n",
              "      <td>4.154106</td>\n",
              "      <td>27.555184</td>\n",
              "      <td>61.719016</td>\n",
              "      <td>2.208808</td>\n",
              "      <td>3.662680</td>\n",
              "      <td>1</td>\n",
              "    </tr>\n",
              "    <tr>\n",
              "      <th>2</th>\n",
              "      <td>100.890625</td>\n",
              "      <td>51.890394</td>\n",
              "      <td>0.627487</td>\n",
              "      <td>-0.026498</td>\n",
              "      <td>3.883779</td>\n",
              "      <td>23.045267</td>\n",
              "      <td>6.953168</td>\n",
              "      <td>52.279440</td>\n",
              "      <td>0</td>\n",
              "    </tr>\n",
              "    <tr>\n",
              "      <th>3</th>\n",
              "      <td>120.554688</td>\n",
              "      <td>45.549905</td>\n",
              "      <td>0.282924</td>\n",
              "      <td>0.419909</td>\n",
              "      <td>1.358696</td>\n",
              "      <td>13.079034</td>\n",
              "      <td>13.312141</td>\n",
              "      <td>212.597029</td>\n",
              "      <td>1</td>\n",
              "    </tr>\n",
              "    <tr>\n",
              "      <th>4</th>\n",
              "      <td>121.882812</td>\n",
              "      <td>53.042675</td>\n",
              "      <td>0.200521</td>\n",
              "      <td>-0.282219</td>\n",
              "      <td>2.116221</td>\n",
              "      <td>16.580876</td>\n",
              "      <td>8.947603</td>\n",
              "      <td>91.011762</td>\n",
              "      <td>0</td>\n",
              "    </tr>\n",
              "  </tbody>\n",
              "</table>\n",
              "</div>\n",
              "      <button class=\"colab-df-convert\" onclick=\"convertToInteractive('df-2143ad9e-66df-4997-bb0b-d4bd4560c72c')\"\n",
              "              title=\"Convert this dataframe to an interactive table.\"\n",
              "              style=\"display:none;\">\n",
              "        \n",
              "  <svg xmlns=\"http://www.w3.org/2000/svg\" height=\"24px\"viewBox=\"0 0 24 24\"\n",
              "       width=\"24px\">\n",
              "    <path d=\"M0 0h24v24H0V0z\" fill=\"none\"/>\n",
              "    <path d=\"M18.56 5.44l.94 2.06.94-2.06 2.06-.94-2.06-.94-.94-2.06-.94 2.06-2.06.94zm-11 1L8.5 8.5l.94-2.06 2.06-.94-2.06-.94L8.5 2.5l-.94 2.06-2.06.94zm10 10l.94 2.06.94-2.06 2.06-.94-2.06-.94-.94-2.06-.94 2.06-2.06.94z\"/><path d=\"M17.41 7.96l-1.37-1.37c-.4-.4-.92-.59-1.43-.59-.52 0-1.04.2-1.43.59L10.3 9.45l-7.72 7.72c-.78.78-.78 2.05 0 2.83L4 21.41c.39.39.9.59 1.41.59.51 0 1.02-.2 1.41-.59l7.78-7.78 2.81-2.81c.8-.78.8-2.07 0-2.86zM5.41 20L4 18.59l7.72-7.72 1.47 1.35L5.41 20z\"/>\n",
              "  </svg>\n",
              "      </button>\n",
              "      \n",
              "  <style>\n",
              "    .colab-df-container {\n",
              "      display:flex;\n",
              "      flex-wrap:wrap;\n",
              "      gap: 12px;\n",
              "    }\n",
              "\n",
              "    .colab-df-convert {\n",
              "      background-color: #E8F0FE;\n",
              "      border: none;\n",
              "      border-radius: 50%;\n",
              "      cursor: pointer;\n",
              "      display: none;\n",
              "      fill: #1967D2;\n",
              "      height: 32px;\n",
              "      padding: 0 0 0 0;\n",
              "      width: 32px;\n",
              "    }\n",
              "\n",
              "    .colab-df-convert:hover {\n",
              "      background-color: #E2EBFA;\n",
              "      box-shadow: 0px 1px 2px rgba(60, 64, 67, 0.3), 0px 1px 3px 1px rgba(60, 64, 67, 0.15);\n",
              "      fill: #174EA6;\n",
              "    }\n",
              "\n",
              "    [theme=dark] .colab-df-convert {\n",
              "      background-color: #3B4455;\n",
              "      fill: #D2E3FC;\n",
              "    }\n",
              "\n",
              "    [theme=dark] .colab-df-convert:hover {\n",
              "      background-color: #434B5C;\n",
              "      box-shadow: 0px 1px 3px 1px rgba(0, 0, 0, 0.15);\n",
              "      filter: drop-shadow(0px 1px 2px rgba(0, 0, 0, 0.3));\n",
              "      fill: #FFFFFF;\n",
              "    }\n",
              "  </style>\n",
              "\n",
              "      <script>\n",
              "        const buttonEl =\n",
              "          document.querySelector('#df-2143ad9e-66df-4997-bb0b-d4bd4560c72c button.colab-df-convert');\n",
              "        buttonEl.style.display =\n",
              "          google.colab.kernel.accessAllowed ? 'block' : 'none';\n",
              "\n",
              "        async function convertToInteractive(key) {\n",
              "          const element = document.querySelector('#df-2143ad9e-66df-4997-bb0b-d4bd4560c72c');\n",
              "          const dataTable =\n",
              "            await google.colab.kernel.invokeFunction('convertToInteractive',\n",
              "                                                     [key], {});\n",
              "          if (!dataTable) return;\n",
              "\n",
              "          const docLinkHtml = 'Like what you see? Visit the ' +\n",
              "            '<a target=\"_blank\" href=https://colab.research.google.com/notebooks/data_table.ipynb>data table notebook</a>'\n",
              "            + ' to learn more about interactive tables.';\n",
              "          element.innerHTML = '';\n",
              "          dataTable['output_type'] = 'display_data';\n",
              "          await google.colab.output.renderOutput(dataTable, element);\n",
              "          const docLink = document.createElement('div');\n",
              "          docLink.innerHTML = docLinkHtml;\n",
              "          element.appendChild(docLink);\n",
              "        }\n",
              "      </script>\n",
              "    </div>\n",
              "  </div>\n",
              "  "
            ]
          },
          "metadata": {},
          "execution_count": 8
        }
      ]
    },
    {
      "cell_type": "code",
      "source": [
        "df.shape"
      ],
      "metadata": {
        "colab": {
          "base_uri": "https://localhost:8080/"
        },
        "id": "74ZI0aSMk2Z7",
        "outputId": "19eab86a-f101-4731-b20b-10a2da5865f7"
      },
      "execution_count": null,
      "outputs": [
        {
          "output_type": "execute_result",
          "data": {
            "text/plain": [
              "(20, 9)"
            ]
          },
          "metadata": {},
          "execution_count": 5
        }
      ]
    },
    {
      "cell_type": "code",
      "source": [
        "features = df.drop(columns = 'y')\n",
        "label = df.iloc[:,8]"
      ],
      "metadata": {
        "id": "Ujyx7E4fkwPe"
      },
      "execution_count": null,
      "outputs": []
    },
    {
      "cell_type": "code",
      "source": [
        "# 학습데이터는 0.8 테스트 데이터는 0.2\n",
        "from sklearn.model_selection import train_test_split\n",
        "\n",
        "X_train, X_test, y_train, y_test = train_test_split(features, label, test_size=0.2, random_state=42)"
      ],
      "metadata": {
        "id": "BC-GjjqekX1h"
      },
      "execution_count": null,
      "outputs": []
    },
    {
      "cell_type": "code",
      "source": [
        "print(X_train.shape)\n",
        "print(X_test.shape)"
      ],
      "metadata": {
        "colab": {
          "base_uri": "https://localhost:8080/"
        },
        "id": "nsgG-LW2l8Bi",
        "outputId": "9ea915b7-9a63-48d9-d790-b71c063bf97a"
      },
      "execution_count": null,
      "outputs": [
        {
          "output_type": "stream",
          "name": "stdout",
          "text": [
            "(16, 8)\n",
            "(4, 8)\n"
          ]
        }
      ]
    },
    {
      "cell_type": "code",
      "source": [
        "model = tf.keras.models.Sequential()\n",
        "model.add(tf.keras.layers.Flatten(input_shape=(8,)))\n",
        "model.add(tf.keras.layers.Dense(1, activation='sigmoid'))"
      ],
      "metadata": {
        "id": "Crm0tkZ0mFlD"
      },
      "execution_count": null,
      "outputs": []
    },
    {
      "cell_type": "code",
      "source": [
        "model.compile(optimizer='adam',\n",
        "              loss='binary_crossentropy',\n",
        "              metrics=['accuracy'])"
      ],
      "metadata": {
        "id": "Bndda7OM2zwR"
      },
      "execution_count": null,
      "outputs": []
    },
    {
      "cell_type": "code",
      "source": [
        "model.fit(X_train, y_train, epochs=1)"
      ],
      "metadata": {
        "colab": {
          "base_uri": "https://localhost:8080/"
        },
        "id": "iaz99Mc723X9",
        "outputId": "a6d138b2-58dc-4a5f-91d3-179f98cba2b1"
      },
      "execution_count": null,
      "outputs": [
        {
          "output_type": "stream",
          "name": "stdout",
          "text": [
            "1/1 [==============================] - 2s 2s/step - loss: 21.2685 - accuracy: 0.6250\n"
          ]
        },
        {
          "output_type": "execute_result",
          "data": {
            "text/plain": [
              "<keras.callbacks.History at 0x7f191384c1f0>"
            ]
          },
          "metadata": {},
          "execution_count": 23
        }
      ]
    },
    {
      "cell_type": "code",
      "source": [
        "model.evaluate(X_test,  y_test, verbose=2)"
      ],
      "metadata": {
        "colab": {
          "base_uri": "https://localhost:8080/"
        },
        "id": "84hggtyk29LD",
        "outputId": "bf85738b-3401-49fa-85dc-e24ace63c52c"
      },
      "execution_count": null,
      "outputs": [
        {
          "output_type": "stream",
          "name": "stdout",
          "text": [
            "1/1 - 0s - loss: 39.4972 - accuracy: 0.5000 - 142ms/epoch - 142ms/step\n"
          ]
        },
        {
          "output_type": "execute_result",
          "data": {
            "text/plain": [
              "[39.497222900390625, 0.5]"
            ]
          },
          "metadata": {},
          "execution_count": 24
        }
      ]
    },
    {
      "cell_type": "markdown",
      "source": [
        "# 라이브러리를 안쓰는 프로젝트"
      ],
      "metadata": {
        "id": "fazj6lqq6dWB"
      }
    },
    {
      "cell_type": "code",
      "source": [
        "#얘네만 사용하기\n",
        "\n",
        "import numpy as np\n",
        "import pandas as pd\n",
        "import csv\n",
        "import matplotlib.pyplot as plt"
      ],
      "metadata": {
        "id": "C6G5qoGY6gsy"
      },
      "execution_count": null,
      "outputs": []
    },
    {
      "cell_type": "code",
      "source": [
        "#데이터 불러오기\n",
        "def load_data(url):\n",
        "\n",
        "  df = pd.read_csv(url)\n",
        "  return df"
      ],
      "metadata": {
        "id": "lAhrQcMO6ogv"
      },
      "execution_count": null,
      "outputs": []
    },
    {
      "cell_type": "code",
      "source": [
        "urls = 'binary_dataset.csv'\n",
        "df = load_data(urls)\n",
        "df.head()"
      ],
      "metadata": {
        "colab": {
          "base_uri": "https://localhost:8080/",
          "height": 206
        },
        "id": "aGJp2DKu6o9G",
        "outputId": "24bcb0d2-c3f1-4aab-c309-23e30ecad310"
      },
      "execution_count": null,
      "outputs": [
        {
          "output_type": "execute_result",
          "data": {
            "text/plain": [
              "           x1         x2        x3        x4         x5         x6         x7  \\\n",
              "0  136.093750  51.691005 -0.045909 -0.271816   9.342809  38.096400   4.345438   \n",
              "1   99.367188  41.572202  1.547197  4.154106  27.555184  61.719016   2.208808   \n",
              "2  100.890625  51.890394  0.627487 -0.026498   3.883779  23.045267   6.953168   \n",
              "3  120.554688  45.549905  0.282924  0.419909   1.358696  13.079034  13.312141   \n",
              "4  121.882812  53.042675  0.200521 -0.282219   2.116221  16.580876   8.947603   \n",
              "\n",
              "           x8  y  \n",
              "0   18.673649  0  \n",
              "1    3.662680  1  \n",
              "2   52.279440  0  \n",
              "3  212.597029  1  \n",
              "4   91.011762  0  "
            ],
            "text/html": [
              "\n",
              "  <div id=\"df-10756915-fa6e-4349-a4cf-55aebd66b51e\">\n",
              "    <div class=\"colab-df-container\">\n",
              "      <div>\n",
              "<style scoped>\n",
              "    .dataframe tbody tr th:only-of-type {\n",
              "        vertical-align: middle;\n",
              "    }\n",
              "\n",
              "    .dataframe tbody tr th {\n",
              "        vertical-align: top;\n",
              "    }\n",
              "\n",
              "    .dataframe thead th {\n",
              "        text-align: right;\n",
              "    }\n",
              "</style>\n",
              "<table border=\"1\" class=\"dataframe\">\n",
              "  <thead>\n",
              "    <tr style=\"text-align: right;\">\n",
              "      <th></th>\n",
              "      <th>x1</th>\n",
              "      <th>x2</th>\n",
              "      <th>x3</th>\n",
              "      <th>x4</th>\n",
              "      <th>x5</th>\n",
              "      <th>x6</th>\n",
              "      <th>x7</th>\n",
              "      <th>x8</th>\n",
              "      <th>y</th>\n",
              "    </tr>\n",
              "  </thead>\n",
              "  <tbody>\n",
              "    <tr>\n",
              "      <th>0</th>\n",
              "      <td>136.093750</td>\n",
              "      <td>51.691005</td>\n",
              "      <td>-0.045909</td>\n",
              "      <td>-0.271816</td>\n",
              "      <td>9.342809</td>\n",
              "      <td>38.096400</td>\n",
              "      <td>4.345438</td>\n",
              "      <td>18.673649</td>\n",
              "      <td>0</td>\n",
              "    </tr>\n",
              "    <tr>\n",
              "      <th>1</th>\n",
              "      <td>99.367188</td>\n",
              "      <td>41.572202</td>\n",
              "      <td>1.547197</td>\n",
              "      <td>4.154106</td>\n",
              "      <td>27.555184</td>\n",
              "      <td>61.719016</td>\n",
              "      <td>2.208808</td>\n",
              "      <td>3.662680</td>\n",
              "      <td>1</td>\n",
              "    </tr>\n",
              "    <tr>\n",
              "      <th>2</th>\n",
              "      <td>100.890625</td>\n",
              "      <td>51.890394</td>\n",
              "      <td>0.627487</td>\n",
              "      <td>-0.026498</td>\n",
              "      <td>3.883779</td>\n",
              "      <td>23.045267</td>\n",
              "      <td>6.953168</td>\n",
              "      <td>52.279440</td>\n",
              "      <td>0</td>\n",
              "    </tr>\n",
              "    <tr>\n",
              "      <th>3</th>\n",
              "      <td>120.554688</td>\n",
              "      <td>45.549905</td>\n",
              "      <td>0.282924</td>\n",
              "      <td>0.419909</td>\n",
              "      <td>1.358696</td>\n",
              "      <td>13.079034</td>\n",
              "      <td>13.312141</td>\n",
              "      <td>212.597029</td>\n",
              "      <td>1</td>\n",
              "    </tr>\n",
              "    <tr>\n",
              "      <th>4</th>\n",
              "      <td>121.882812</td>\n",
              "      <td>53.042675</td>\n",
              "      <td>0.200521</td>\n",
              "      <td>-0.282219</td>\n",
              "      <td>2.116221</td>\n",
              "      <td>16.580876</td>\n",
              "      <td>8.947603</td>\n",
              "      <td>91.011762</td>\n",
              "      <td>0</td>\n",
              "    </tr>\n",
              "  </tbody>\n",
              "</table>\n",
              "</div>\n",
              "      <button class=\"colab-df-convert\" onclick=\"convertToInteractive('df-10756915-fa6e-4349-a4cf-55aebd66b51e')\"\n",
              "              title=\"Convert this dataframe to an interactive table.\"\n",
              "              style=\"display:none;\">\n",
              "        \n",
              "  <svg xmlns=\"http://www.w3.org/2000/svg\" height=\"24px\"viewBox=\"0 0 24 24\"\n",
              "       width=\"24px\">\n",
              "    <path d=\"M0 0h24v24H0V0z\" fill=\"none\"/>\n",
              "    <path d=\"M18.56 5.44l.94 2.06.94-2.06 2.06-.94-2.06-.94-.94-2.06-.94 2.06-2.06.94zm-11 1L8.5 8.5l.94-2.06 2.06-.94-2.06-.94L8.5 2.5l-.94 2.06-2.06.94zm10 10l.94 2.06.94-2.06 2.06-.94-2.06-.94-.94-2.06-.94 2.06-2.06.94z\"/><path d=\"M17.41 7.96l-1.37-1.37c-.4-.4-.92-.59-1.43-.59-.52 0-1.04.2-1.43.59L10.3 9.45l-7.72 7.72c-.78.78-.78 2.05 0 2.83L4 21.41c.39.39.9.59 1.41.59.51 0 1.02-.2 1.41-.59l7.78-7.78 2.81-2.81c.8-.78.8-2.07 0-2.86zM5.41 20L4 18.59l7.72-7.72 1.47 1.35L5.41 20z\"/>\n",
              "  </svg>\n",
              "      </button>\n",
              "      \n",
              "  <style>\n",
              "    .colab-df-container {\n",
              "      display:flex;\n",
              "      flex-wrap:wrap;\n",
              "      gap: 12px;\n",
              "    }\n",
              "\n",
              "    .colab-df-convert {\n",
              "      background-color: #E8F0FE;\n",
              "      border: none;\n",
              "      border-radius: 50%;\n",
              "      cursor: pointer;\n",
              "      display: none;\n",
              "      fill: #1967D2;\n",
              "      height: 32px;\n",
              "      padding: 0 0 0 0;\n",
              "      width: 32px;\n",
              "    }\n",
              "\n",
              "    .colab-df-convert:hover {\n",
              "      background-color: #E2EBFA;\n",
              "      box-shadow: 0px 1px 2px rgba(60, 64, 67, 0.3), 0px 1px 3px 1px rgba(60, 64, 67, 0.15);\n",
              "      fill: #174EA6;\n",
              "    }\n",
              "\n",
              "    [theme=dark] .colab-df-convert {\n",
              "      background-color: #3B4455;\n",
              "      fill: #D2E3FC;\n",
              "    }\n",
              "\n",
              "    [theme=dark] .colab-df-convert:hover {\n",
              "      background-color: #434B5C;\n",
              "      box-shadow: 0px 1px 3px 1px rgba(0, 0, 0, 0.15);\n",
              "      filter: drop-shadow(0px 1px 2px rgba(0, 0, 0, 0.3));\n",
              "      fill: #FFFFFF;\n",
              "    }\n",
              "  </style>\n",
              "\n",
              "      <script>\n",
              "        const buttonEl =\n",
              "          document.querySelector('#df-10756915-fa6e-4349-a4cf-55aebd66b51e button.colab-df-convert');\n",
              "        buttonEl.style.display =\n",
              "          google.colab.kernel.accessAllowed ? 'block' : 'none';\n",
              "\n",
              "        async function convertToInteractive(key) {\n",
              "          const element = document.querySelector('#df-10756915-fa6e-4349-a4cf-55aebd66b51e');\n",
              "          const dataTable =\n",
              "            await google.colab.kernel.invokeFunction('convertToInteractive',\n",
              "                                                     [key], {});\n",
              "          if (!dataTable) return;\n",
              "\n",
              "          const docLinkHtml = 'Like what you see? Visit the ' +\n",
              "            '<a target=\"_blank\" href=https://colab.research.google.com/notebooks/data_table.ipynb>data table notebook</a>'\n",
              "            + ' to learn more about interactive tables.';\n",
              "          element.innerHTML = '';\n",
              "          dataTable['output_type'] = 'display_data';\n",
              "          await google.colab.output.renderOutput(dataTable, element);\n",
              "          const docLink = document.createElement('div');\n",
              "          docLink.innerHTML = docLinkHtml;\n",
              "          element.appendChild(docLink);\n",
              "        }\n",
              "      </script>\n",
              "    </div>\n",
              "  </div>\n",
              "  "
            ]
          },
          "metadata": {},
          "execution_count": 16
        }
      ]
    },
    {
      "cell_type": "code",
      "source": [
        "#학습데이터와 테스트 데이터를 0.8 0.2 로 나누기\n",
        "#20개중에서 무작위로 4개를 뽑고 얘는 테스트 데이터로 삼자\n",
        "#매개변수를 test_size = 0.2로 했을때 그것만 뽑으려면 (전체 데이터 개수 * test_size매개변수로 해서 그것만 뽑자)\n",
        "\n",
        "\n",
        "def data_split(df,test_size):\n",
        "  li = []\n",
        "  start = 0\n",
        "  end   = df.shape[0] \n",
        "  test_ = df.shape[0]*test_size\n",
        "\n",
        "  for _ in range(int(test_)):\n",
        "    a = np.random.randint(start,end, size=1)[0]\n",
        "    while a in li:\n",
        "      a = np.random.randint(start,end, size=1)[0]\n",
        "    li.append(a)\n",
        "\n",
        "  X_test,y_test   = df.iloc[li,:8],df.iloc[li,8]\n",
        "  X_train,y_train = df.drop(index = li).iloc[:,:8],df.drop(index = li).iloc[:,8]\n",
        "\n",
        "  return X_train,y_train,X_test,y_test\n",
        "\n",
        "\n"
      ],
      "metadata": {
        "id": "Kyc_-zWQ6xWi"
      },
      "execution_count": null,
      "outputs": []
    },
    {
      "cell_type": "code",
      "source": [
        "X_train,y_train,X_test,y_test = data_split(df,0.2)\n"
      ],
      "metadata": {
        "id": "FBZnFeXeHwX_"
      },
      "execution_count": null,
      "outputs": []
    },
    {
      "cell_type": "code",
      "source": [
        "X_test"
      ],
      "metadata": {
        "colab": {
          "base_uri": "https://localhost:8080/",
          "height": 175
        },
        "id": "J4sInSN-IyBA",
        "outputId": "6917fc58-464f-4b6d-e945-bdcb9c4033f3"
      },
      "execution_count": null,
      "outputs": [
        {
          "output_type": "execute_result",
          "data": {
            "text/plain": [
              "            x1         x2        x3        x4         x5         x6  \\\n",
              "16  123.531250  53.348784  0.072078 -0.071601   0.781773  10.570833   \n",
              "6   141.968750  50.470898  0.244974 -0.342665   2.823579  16.238188   \n",
              "14   94.585938  35.779823  1.187309  3.687469   6.071070  29.760400   \n",
              "15  137.242188  46.454740  0.045257 -0.438858  59.495819  77.755357   \n",
              "\n",
              "           x7          x8  \n",
              "16  17.118300  339.660826  \n",
              "6    8.207744   85.532584  \n",
              "14   5.318767   28.698048  \n",
              "15   0.719748   -1.183162  "
            ],
            "text/html": [
              "\n",
              "  <div id=\"df-07b25524-96de-4441-9a02-bddaf65aa8b1\">\n",
              "    <div class=\"colab-df-container\">\n",
              "      <div>\n",
              "<style scoped>\n",
              "    .dataframe tbody tr th:only-of-type {\n",
              "        vertical-align: middle;\n",
              "    }\n",
              "\n",
              "    .dataframe tbody tr th {\n",
              "        vertical-align: top;\n",
              "    }\n",
              "\n",
              "    .dataframe thead th {\n",
              "        text-align: right;\n",
              "    }\n",
              "</style>\n",
              "<table border=\"1\" class=\"dataframe\">\n",
              "  <thead>\n",
              "    <tr style=\"text-align: right;\">\n",
              "      <th></th>\n",
              "      <th>x1</th>\n",
              "      <th>x2</th>\n",
              "      <th>x3</th>\n",
              "      <th>x4</th>\n",
              "      <th>x5</th>\n",
              "      <th>x6</th>\n",
              "      <th>x7</th>\n",
              "      <th>x8</th>\n",
              "    </tr>\n",
              "  </thead>\n",
              "  <tbody>\n",
              "    <tr>\n",
              "      <th>16</th>\n",
              "      <td>123.531250</td>\n",
              "      <td>53.348784</td>\n",
              "      <td>0.072078</td>\n",
              "      <td>-0.071601</td>\n",
              "      <td>0.781773</td>\n",
              "      <td>10.570833</td>\n",
              "      <td>17.118300</td>\n",
              "      <td>339.660826</td>\n",
              "    </tr>\n",
              "    <tr>\n",
              "      <th>6</th>\n",
              "      <td>141.968750</td>\n",
              "      <td>50.470898</td>\n",
              "      <td>0.244974</td>\n",
              "      <td>-0.342665</td>\n",
              "      <td>2.823579</td>\n",
              "      <td>16.238188</td>\n",
              "      <td>8.207744</td>\n",
              "      <td>85.532584</td>\n",
              "    </tr>\n",
              "    <tr>\n",
              "      <th>14</th>\n",
              "      <td>94.585938</td>\n",
              "      <td>35.779823</td>\n",
              "      <td>1.187309</td>\n",
              "      <td>3.687469</td>\n",
              "      <td>6.071070</td>\n",
              "      <td>29.760400</td>\n",
              "      <td>5.318767</td>\n",
              "      <td>28.698048</td>\n",
              "    </tr>\n",
              "    <tr>\n",
              "      <th>15</th>\n",
              "      <td>137.242188</td>\n",
              "      <td>46.454740</td>\n",
              "      <td>0.045257</td>\n",
              "      <td>-0.438858</td>\n",
              "      <td>59.495819</td>\n",
              "      <td>77.755357</td>\n",
              "      <td>0.719748</td>\n",
              "      <td>-1.183162</td>\n",
              "    </tr>\n",
              "  </tbody>\n",
              "</table>\n",
              "</div>\n",
              "      <button class=\"colab-df-convert\" onclick=\"convertToInteractive('df-07b25524-96de-4441-9a02-bddaf65aa8b1')\"\n",
              "              title=\"Convert this dataframe to an interactive table.\"\n",
              "              style=\"display:none;\">\n",
              "        \n",
              "  <svg xmlns=\"http://www.w3.org/2000/svg\" height=\"24px\"viewBox=\"0 0 24 24\"\n",
              "       width=\"24px\">\n",
              "    <path d=\"M0 0h24v24H0V0z\" fill=\"none\"/>\n",
              "    <path d=\"M18.56 5.44l.94 2.06.94-2.06 2.06-.94-2.06-.94-.94-2.06-.94 2.06-2.06.94zm-11 1L8.5 8.5l.94-2.06 2.06-.94-2.06-.94L8.5 2.5l-.94 2.06-2.06.94zm10 10l.94 2.06.94-2.06 2.06-.94-2.06-.94-.94-2.06-.94 2.06-2.06.94z\"/><path d=\"M17.41 7.96l-1.37-1.37c-.4-.4-.92-.59-1.43-.59-.52 0-1.04.2-1.43.59L10.3 9.45l-7.72 7.72c-.78.78-.78 2.05 0 2.83L4 21.41c.39.39.9.59 1.41.59.51 0 1.02-.2 1.41-.59l7.78-7.78 2.81-2.81c.8-.78.8-2.07 0-2.86zM5.41 20L4 18.59l7.72-7.72 1.47 1.35L5.41 20z\"/>\n",
              "  </svg>\n",
              "      </button>\n",
              "      \n",
              "  <style>\n",
              "    .colab-df-container {\n",
              "      display:flex;\n",
              "      flex-wrap:wrap;\n",
              "      gap: 12px;\n",
              "    }\n",
              "\n",
              "    .colab-df-convert {\n",
              "      background-color: #E8F0FE;\n",
              "      border: none;\n",
              "      border-radius: 50%;\n",
              "      cursor: pointer;\n",
              "      display: none;\n",
              "      fill: #1967D2;\n",
              "      height: 32px;\n",
              "      padding: 0 0 0 0;\n",
              "      width: 32px;\n",
              "    }\n",
              "\n",
              "    .colab-df-convert:hover {\n",
              "      background-color: #E2EBFA;\n",
              "      box-shadow: 0px 1px 2px rgba(60, 64, 67, 0.3), 0px 1px 3px 1px rgba(60, 64, 67, 0.15);\n",
              "      fill: #174EA6;\n",
              "    }\n",
              "\n",
              "    [theme=dark] .colab-df-convert {\n",
              "      background-color: #3B4455;\n",
              "      fill: #D2E3FC;\n",
              "    }\n",
              "\n",
              "    [theme=dark] .colab-df-convert:hover {\n",
              "      background-color: #434B5C;\n",
              "      box-shadow: 0px 1px 3px 1px rgba(0, 0, 0, 0.15);\n",
              "      filter: drop-shadow(0px 1px 2px rgba(0, 0, 0, 0.3));\n",
              "      fill: #FFFFFF;\n",
              "    }\n",
              "  </style>\n",
              "\n",
              "      <script>\n",
              "        const buttonEl =\n",
              "          document.querySelector('#df-07b25524-96de-4441-9a02-bddaf65aa8b1 button.colab-df-convert');\n",
              "        buttonEl.style.display =\n",
              "          google.colab.kernel.accessAllowed ? 'block' : 'none';\n",
              "\n",
              "        async function convertToInteractive(key) {\n",
              "          const element = document.querySelector('#df-07b25524-96de-4441-9a02-bddaf65aa8b1');\n",
              "          const dataTable =\n",
              "            await google.colab.kernel.invokeFunction('convertToInteractive',\n",
              "                                                     [key], {});\n",
              "          if (!dataTable) return;\n",
              "\n",
              "          const docLinkHtml = 'Like what you see? Visit the ' +\n",
              "            '<a target=\"_blank\" href=https://colab.research.google.com/notebooks/data_table.ipynb>data table notebook</a>'\n",
              "            + ' to learn more about interactive tables.';\n",
              "          element.innerHTML = '';\n",
              "          dataTable['output_type'] = 'display_data';\n",
              "          await google.colab.output.renderOutput(dataTable, element);\n",
              "          const docLink = document.createElement('div');\n",
              "          docLink.innerHTML = docLinkHtml;\n",
              "          element.appendChild(docLink);\n",
              "        }\n",
              "      </script>\n",
              "    </div>\n",
              "  </div>\n",
              "  "
            ]
          },
          "metadata": {},
          "execution_count": 19
        }
      ]
    },
    {
      "cell_type": "code",
      "source": [
        "y_test"
      ],
      "metadata": {
        "colab": {
          "base_uri": "https://localhost:8080/"
        },
        "id": "uMU2YrHNJBP7",
        "outputId": "7b24088a-7b13-4a96-9c07-5c00e0c7b17a"
      },
      "execution_count": null,
      "outputs": [
        {
          "output_type": "execute_result",
          "data": {
            "text/plain": [
              "16    0\n",
              "6     0\n",
              "14    1\n",
              "15    0\n",
              "Name: y, dtype: int64"
            ]
          },
          "metadata": {},
          "execution_count": 20
        }
      ]
    },
    {
      "cell_type": "code",
      "source": [
        "#파라미터와 편향 생성하기\n",
        "#가중치 초기화는 표준정규분포에서 뽑기\n",
        "#원래 기울기 초기화의 경우 역전파에서 가중치 소실이나 폭발이 일어나서 xavier나 he를 쓰지만 여기서는 역전파가 없으니 그냥 초기화\n",
        "#편향의 경우 0으로 초기화하거나 0.01로 초기화하는 경우가 많아서 0.01로 \n",
        "\n",
        "def para(node_num):\n",
        "  \n",
        "  node_wei = np.random.randn(node_num)\n",
        "  bias     = 0.01\n",
        "\n",
        "  return node_wei,bias\n"
      ],
      "metadata": {
        "id": "yw5k0uaiJ8jo"
      },
      "execution_count": null,
      "outputs": []
    },
    {
      "cell_type": "code",
      "source": [
        "node_wei,bias = para(8)\n"
      ],
      "metadata": {
        "colab": {
          "base_uri": "https://localhost:8080/"
        },
        "id": "xMka5eyF14cB",
        "outputId": "4b0a8fb6-29e0-4ad6-bd75-fa4d4aef7ade"
      },
      "execution_count": null,
      "outputs": [
        {
          "output_type": "execute_result",
          "data": {
            "text/plain": [
              "0.01"
            ]
          },
          "metadata": {},
          "execution_count": 30
        }
      ]
    },
    {
      "cell_type": "code",
      "source": [
        "#데이터 셔플해서 인덱스만 다시 설정하는 메서드\n",
        "\n",
        "def data_shu(df):\n",
        "  df = df.sample(frac=1).reset_index(drop = True)\n",
        "  return df"
      ],
      "metadata": {
        "id": "E3xaw2-05nvs"
      },
      "execution_count": null,
      "outputs": []
    },
    {
      "cell_type": "code",
      "source": [],
      "metadata": {
        "id": "GCbPkhCD7liV"
      },
      "execution_count": null,
      "outputs": []
    }
  ]
}